{
 "cells": [
  {
   "cell_type": "code",
   "execution_count": 1,
   "metadata": {},
   "outputs": [],
   "source": [
    "import os, sys\n",
    "from glob import glob\n",
    "sys.path.append(\"../\")\n",
    "\n",
    "import numpy as np\n",
    "import matplotlib.pyplot as plt\n",
    "import matplotlib.pylab as pylab\n",
    "from scipy.interpolate import interp1d, RegularGridInterpolator\n",
    "from tqdm import *\n",
    "\n",
    "import pickle\n",
    "\n",
    "from grf.analytic_pdf import analytic_pdf\n",
    "\n",
    "from multiprocessing import Pool \n",
    "\n",
    "from IPython.display import set_matplotlib_formats\n",
    "set_matplotlib_formats('retina')\n",
    "\n",
    "%matplotlib inline\n",
    "%load_ext autoreload\n",
    "%autoreload 2"
   ]
  },
  {
   "cell_type": "code",
   "execution_count": 2,
   "metadata": {},
   "outputs": [],
   "source": [
    "# Load plot style\n",
    "\n",
    "from plot_params import params\n",
    "pylab.rcParams.update(params)\n",
    "\n",
    "cols_default = plt.rcParams['axes.prop_cycle'].by_key()['color']"
   ]
  },
  {
   "cell_type": "markdown",
   "metadata": {},
   "source": [
    "# Preamble"
   ]
  },
  {
   "cell_type": "markdown",
   "metadata": {},
   "source": [
    "## Load pre-computed linear matter power spectra"
   ]
  },
  {
   "cell_type": "code",
   "execution_count": null,
   "metadata": {},
   "outputs": [],
   "source": [
    "z_compute_ary = np.logspace(-3, 3, 500)\n",
    "k_ary = np.logspace(-4, np.log10(1e3), 500)\n",
    "\n",
    "# Linear matter power spectra. \n",
    "log_pk_grid_ary = np.load(\"../data/log_pk_grids/log_pk_matter_grid_ary.npy\")\n",
    "\n",
    "# Create the \n",
    "log_pk_interp = RegularGridInterpolator(points=[np.log10(z_compute_ary),np.log10(k_ary)], values=log_pk_grid_ary,\n",
    "                                        bounds_error=False,\n",
    "                                        fill_value=None)\n",
    "\n",
    "def log_pk_interp_fn(z_ary, k_ary):\n",
    "    log_z_mesh_ary, log_k_mesh_ary = np.log10(np.meshgrid(z_ary, k_ary))\n",
    "    return np.where(\n",
    "        np.transpose(log_z_mesh_ary) < -3, \n",
    "        log_pk_interp(np.transpose([np.ones_like(log_z_mesh_ary) * -3., log_k_mesh_ary])), \n",
    "        log_pk_interp(np.transpose([log_z_mesh_ary, log_k_mesh_ary])) \n",
    "    )\n"
   ]
  },
  {
   "cell_type": "markdown",
   "metadata": {},
   "source": [
    "## Produce a grid of PDF values"
   ]
  },
  {
   "cell_type": "code",
   "execution_count": null,
   "metadata": {},
   "outputs": [],
   "source": [
    "# Range of 1+delta values over which we want the PDF.\n",
    "one_plus_delt_ary = 10**np.arange(-5.1, 22.1, 0.02)\n",
    "\n",
    "# Range of z over which we want the PDF. \n",
    "z_ary = np.logspace(-3, np.log10(200), 200)\n",
    "\n",
    "# Number of points for log-Fourier transform in calculation of the PDF.\n",
    "N_pts = 2**11\n",
    "# Minimum k of the log-Fourier transform. \n",
    "k_min = 1e-5\n",
    "# Maximum k of the log-Fourier transform. \n",
    "k_max = 1e10\n",
    "# Smoothing radius, which we take to be the Jeans scale. \n",
    "jeans_scale_data = np.loadtxt('../data/k_bJ_ary.dat')\n",
    "\n",
    "jeans_scale = interp1d(np.log10(jeans_scale_data[:,0]), 1./jeans_scale_data[:,1])\n",
    "\n",
    "# Obtain the PDF with parallelization. \n",
    "pool = Pool(z_ary.size//5)\n",
    "\n",
    "def analytic_pdf_parallel(z):\n",
    "    \n",
    "    res = analytic_pdf(\n",
    "        one_plus_delt_ary, z, log_pk_interp_fn, \n",
    "        N_pts, k_min, k_max, jeans_scale(np.log10(z))\n",
    "    )\n",
    "    \n",
    "    print(\"Completed redshift: \", z)\n",
    "    \n",
    "    return res\n",
    "\n",
    "analytic_pdf_grid = list(pool.imap(analytic_pdf_parallel, z_ary))\n"
   ]
  },
  {
   "cell_type": "markdown",
   "metadata": {},
   "source": [
    "## Generate an interpolation function for the PDF"
   ]
  },
  {
   "cell_type": "code",
   "execution_count": null,
   "metadata": {},
   "outputs": [],
   "source": [
    "# Set zeroes in analytic_pdf_grid to a very small number to enable log-interpolation. \n",
    "analytic_pdf_grid = np.array(analytic_pdf_grid)\n",
    "\n",
    "analytic_pdf_grid[analytic_pdf_grid == 0.] = 1e-300\n",
    "\n",
    "log_analytic_pdf_interp = RegularGridInterpolator(\n",
    "    points=[np.log10(z_ary), np.log10(one_plus_delt_ary)], values=np.log10(analytic_pdf_grid),\n",
    "    bounds_error=False, fill_value=None\n",
    ")\n",
    "\n",
    "pickle.dump(log_analytic_pdf_interp, open('../data/analytic_pdf_grids/log_analytic_pdf_interp.npy', 'wb'))"
   ]
  },
  {
   "cell_type": "code",
   "execution_count": 4,
   "metadata": {},
   "outputs": [],
   "source": [
    "log_analytic_pdf_interp = pickle.load(open('../data/analytic_pdf_grids/log_analytic_pdf_interp.npy', 'rb'))\n",
    "\n",
    "def log_analytic_pdf_interp_fn(z_ary, one_plus_delt_ary):\n",
    "    \n",
    "    try:\n",
    "        \n",
    "        _ = iter(z_ary)\n",
    "    \n",
    "        z_ary[z_ary < 1e-3] = 1e-3 \n",
    "        \n",
    "    except:\n",
    "        \n",
    "        if z_ary < 1e-3:\n",
    "            \n",
    "            z_ary = 1e-3\n",
    "    \n",
    "    log_z_mesh_ary, log_one_plus_delt_mesh_ary = np.log10(np.meshgrid(z_ary, one_plus_delt_ary))\n",
    "    \n",
    "    res = log_analytic_pdf_interp(\n",
    "            np.transpose([log_z_mesh_ary, log_one_plus_delt_mesh_ary])\n",
    "        )\n",
    "    \n",
    "    res = np.where(\n",
    "        (np.transpose(log_one_plus_delt_mesh_ary) < -5.) | (np.transpose(log_one_plus_delt_mesh_ary) > 22.),\n",
    "        -np.inf,\n",
    "        res\n",
    "    )\n",
    "    \n",
    "    return res"
   ]
  },
  {
   "cell_type": "code",
   "execution_count": 5,
   "metadata": {},
   "outputs": [
    {
     "data": {
      "text/plain": [
       "[0.0001, 10000.0, 1e-10, 1000000.0]"
      ]
     },
     "execution_count": 5,
     "metadata": {},
     "output_type": "execute_result"
    },
    {
     "name": "stderr",
     "output_type": "stream",
     "text": [
      "/Users/hongwan/anaconda/envs/python3/lib/python3.6/site-packages/matplotlib/font_manager.py:1241: UserWarning: findfont: Font family ['serif'] not found. Falling back to DejaVu Sans.\n",
      "  (prop.get_family(), self.defaultFamily[fontext]))\n",
      "/Users/hongwan/anaconda/envs/python3/lib/python3.6/site-packages/matplotlib/font_manager.py:1241: UserWarning: findfont: Font family ['serif'] not found. Falling back to DejaVu Sans.\n",
      "  (prop.get_family(), self.defaultFamily[fontext]))\n",
      "/Users/hongwan/anaconda/envs/python3/lib/python3.6/site-packages/matplotlib/font_manager.py:1241: UserWarning: findfont: Font family ['serif'] not found. Falling back to DejaVu Sans.\n",
      "  (prop.get_family(), self.defaultFamily[fontext]))\n",
      "/Users/hongwan/anaconda/envs/python3/lib/python3.6/site-packages/matplotlib/font_manager.py:1241: UserWarning: findfont: Font family ['serif'] not found. Falling back to DejaVu Sans.\n",
      "  (prop.get_family(), self.defaultFamily[fontext]))\n"
     ]
    },
    {
     "data": {
      "image/png": "[encoded data removed]",
      "text/plain": [
       "<Figure size 443.077x360 with 1 Axes>"
      ]
     },
     "metadata": {
      "needs_background": "light"
     },
     "output_type": "display_data"
    }
   ],
   "source": [
    "plt.figure()\n",
    "\n",
    "plt.loglog()\n",
    "\n",
    "one_plus_delt_to_plt_ary = 10**np.arange(-5, 4, 0.05)\n",
    "\n",
    "z_to_plt_ary = np.array([0., 40., 80., 120., 160., 200.])\n",
    "\n",
    "analytic_pdf_to_plt = 10**log_analytic_pdf_interp_fn(z_to_plt_ary, one_plus_delt_to_plt_ary)\n",
    "\n",
    "plt_labels = ['z = 0', 'z = 40', 'z = 80', 'z = 120', 'z = 160', 'z = 200']\n",
    "\n",
    "for z,plt_label,pdf in zip(z_to_plt_ary, plt_labels, analytic_pdf_to_plt):\n",
    "    \n",
    "    plt.plot(one_plus_delt_to_plt_ary, pdf, label=plt_label)\n",
    "    \n",
    "plt.legend(ncol=2)\n",
    "\n",
    "plt.xlabel(r'Density Fluctuations $1+\\delta$')\n",
    "plt.ylabel(r'PDF $\\mathcal{P}(\\delta)$')\n",
    "\n",
    "plt.title('Analytic Probability Density Function')\n",
    "\n",
    "plt.axis([1e-4, 1e4, 1e-10, 1e6])"
   ]
  },
  {
   "cell_type": "code",
   "execution_count": null,
   "metadata": {},
   "outputs": [],
   "source": []
  }
 ],
 "metadata": {
  "kernelspec": {
   "display_name": "Python 3",
   "language": "python",
   "name": "python3"
  },
  "language_info": {
   "codemirror_mode": {
    "name": "ipython",
    "version": 3
   },
   "file_extension": ".py",
   "mimetype": "text/x-python",
   "name": "python",
   "nbconvert_exporter": "python",
   "pygments_lexer": "ipython3",
   "version": "3.6.9"
  },
  "toc": {
   "base_numbering": 1,
   "nav_menu": {},
   "number_sections": true,
   "sideBar": true,
   "skip_h1_title": false,
   "title_cell": "Table of Contents",
   "title_sidebar": "Contents",
   "toc_cell": false,
   "toc_position": {},
   "toc_section_display": true,
   "toc_window_display": false
  }
 },
 "nbformat": 4,
 "nbformat_minor": 2
}
