{
 "cells": [
  {
   "cell_type": "code",
   "execution_count": 1,
   "metadata": {},
   "outputs": [],
   "source": [
    "import os, sys\n",
    "from glob import glob\n",
    "sys.path.append(\"../\")\n",
    "\n",
    "import numpy as np\n",
    "import matplotlib.pyplot as plt\n",
    "import matplotlib.pylab as pylab\n",
    "from scipy.interpolate import interp1d, RegularGridInterpolator\n",
    "from tqdm import *\n",
    "\n",
    "import pickle\n",
    "\n",
    "from scipy.integrate import quad\n",
    "\n",
    "from grf.grf import TransitionProbabilities, PerturbedProbability, FIRAS\n",
    "from grf.units import *\n",
    "from grf.pk_interp import PowerSpectrumGridInterpolator\n",
    "\n",
    "from IPython.display import set_matplotlib_formats\n",
    "set_matplotlib_formats('retina')\n",
    "\n",
    "%matplotlib inline\n",
    "%load_ext autoreload\n",
    "%autoreload 2"
   ]
  },
  {
   "cell_type": "code",
   "execution_count": 2,
   "metadata": {},
   "outputs": [
    {
     "name": "stderr",
     "output_type": "stream",
     "text": [
      "/Users/smsharma/anaconda3/lib/python3.7/site-packages/matplotlib/__init__.py:855: MatplotlibDeprecationWarning: \n",
      "examples.directory is deprecated; in the future, examples will be found relative to the 'datapath' directory.\n",
      "  \"found relative to the 'datapath' directory.\".format(key))\n",
      "/Users/smsharma/anaconda3/lib/python3.7/site-packages/matplotlib/__init__.py:846: MatplotlibDeprecationWarning: \n",
      "The text.latex.unicode rcparam was deprecated in Matplotlib 2.2 and will be removed in 3.1.\n",
      "  \"2.2\", name=key, obj_type=\"rcparam\", addendum=addendum)\n"
     ]
    }
   ],
   "source": [
    "# Load plot style\n",
    "\n",
    "from plot_params import params\n",
    "pylab.rcParams.update(params)\n",
    "\n",
    "cols_default = plt.rcParams['axes.prop_cycle'].by_key()['color']"
   ]
  },
  {
   "cell_type": "markdown",
   "metadata": {},
   "source": [
    "# Get power spectra and analytic PDF"
   ]
  },
  {
   "cell_type": "code",
   "execution_count": 3,
   "metadata": {},
   "outputs": [],
   "source": [
    "# Non-linear matter power spectrum. \n",
    "pspec_nonlin_matter       = PowerSpectrumGridInterpolator(\"nonlin_matter\")\n",
    "# Non-linear baryon power spectrum from simulations, lower limit. \n",
    "pspec_nonlin_baryon_lower = PowerSpectrumGridInterpolator(\"franken_lower\")\n",
    "\n",
    "\n",
    "# Analytic PDF. \n",
    "log_analytic_pdf_interp = pickle.load(open('../data/analytic_pdf_grids/log_analytic_pdf_interp.npy', 'rb'))"
   ]
  },
  {
   "cell_type": "markdown",
   "metadata": {},
   "source": [
    "# Generate results class"
   ]
  },
  {
   "cell_type": "code",
   "execution_count": 4,
   "metadata": {},
   "outputs": [
    {
     "name": "stderr",
     "output_type": "stream",
     "text": [
      "../grf/grf.py:633: FutureWarning: read_table is deprecated, use read_csv instead.\n",
      "  names=['freq', 'I', 'residual', 'uncert', 'poles'])\n"
     ]
    }
   ],
   "source": [
    "# Class containing results with non-linear matter power spectrum. \n",
    "firas_nonlin            = FIRAS(pspec_nonlin_matter)\n",
    "# Class containing results with non-linear baryon power spectrum from simulations, lower limit.\n",
    "firas_nonlin_baryon_low = FIRAS(pspec_nonlin_baryon_lower)"
   ]
  },
  {
   "cell_type": "markdown",
   "metadata": {},
   "source": [
    "# Extract $m_\\gamma^2$ PDFs"
   ]
  },
  {
   "cell_type": "code",
   "execution_count": 5,
   "metadata": {},
   "outputs": [
    {
     "name": "stdout",
     "output_type": "stream",
     "text": [
      "1.758226929292952e-14\n"
     ]
    },
    {
     "name": "stderr",
     "output_type": "stream",
     "text": [
      "/Users/smsharma/anaconda3/lib/python3.7/site-packages/ipykernel_launcher.py:30: TqdmDeprecationWarning: This function will be removed in tqdm==5.0.0\n",
      "Please use `tqdm.notebook.tqdm` instead of `tqdm.tqdm_notebook`\n"
     ]
    },
    {
     "data": {
      "application/vnd.jupyter.widget-view+json": {
       "model_id": "d2d99e64d24e4c0090c0ca14865d0be7",
       "version_major": 2,
       "version_minor": 0
      },
      "text/plain": [
       "HBox(children=(IntProgress(value=0, max=500), HTML(value='')))"
      ]
     },
     "metadata": {},
     "output_type": "display_data"
    },
    {
     "name": "stderr",
     "output_type": "stream",
     "text": [
      "../grf/grf.py:366: RuntimeWarning: divide by zero encountered in log\n",
      "  sigma_LN_sq_ary / 2.) ** 2 / (2 * sigma_LN_sq_ary)) * (1. / (m_Ap ** 2 + (b - 1) * m_A_sq))\n",
      "../grf/grf.py:369: RuntimeWarning: divide by zero encountered in log\n",
      "  ** 2 / (2 * sigma_LN_sq_ary)) / np.abs(self.dz_dt(z_mesh)) * (m_Ap ** 2 / (m_Ap ** 2 + (b - 1) * m_A_sq))\n"
     ]
    },
    {
     "name": "stdout",
     "output_type": "stream",
     "text": [
      "\n"
     ]
    },
    {
     "data": {
      "application/vnd.jupyter.widget-view+json": {
       "model_id": "fe5beb9595184ef2ab21d42733ddb195",
       "version_major": 2,
       "version_minor": 0
      },
      "text/plain": [
       "HBox(children=(IntProgress(value=0, max=500), HTML(value='')))"
      ]
     },
     "metadata": {},
     "output_type": "display_data"
    },
    {
     "name": "stdout",
     "output_type": "stream",
     "text": [
      "\n"
     ]
    },
    {
     "data": {
      "application/vnd.jupyter.widget-view+json": {
       "model_id": "56786ee9882046adb2c12baf1469cd62",
       "version_major": 2,
       "version_minor": 0
      },
      "text/plain": [
       "HBox(children=(IntProgress(value=0, max=500), HTML(value='')))"
      ]
     },
     "metadata": {},
     "output_type": "display_data"
    },
    {
     "name": "stdout",
     "output_type": "stream",
     "text": [
      "\n"
     ]
    },
    {
     "data": {
      "application/vnd.jupyter.widget-view+json": {
       "model_id": "1998455b16e34a618d7e601b27a878b2",
       "version_major": 2,
       "version_minor": 0
      },
      "text/plain": [
       "HBox(children=(IntProgress(value=0, max=500), HTML(value='')))"
      ]
     },
     "metadata": {},
     "output_type": "display_data"
    },
    {
     "name": "stdout",
     "output_type": "stream",
     "text": [
      "\n"
     ]
    },
    {
     "data": {
      "application/vnd.jupyter.widget-view+json": {
       "model_id": "7dacfb5a58514c9882dce6c467b01b02",
       "version_major": 2,
       "version_minor": 0
      },
      "text/plain": [
       "HBox(children=(IntProgress(value=0, max=500), HTML(value='')))"
      ]
     },
     "metadata": {},
     "output_type": "display_data"
    },
    {
     "name": "stdout",
     "output_type": "stream",
     "text": [
      "\n"
     ]
    }
   ],
   "source": [
    "pdf_strings = ['lognormal', 'LN_b_1_5', 'analytic', 'voids', 'gaussian']\n",
    "\n",
    "pdf_type_dict = dict.fromkeys(pdf_strings)\n",
    "\n",
    "pdf_type_dict['lognormal'] = 'lognormal'\n",
    "pdf_type_dict['analytic']  = log_analytic_pdf_interp\n",
    "pdf_type_dict['LN_b_1_5']  = 'lognormal'\n",
    "pdf_type_dict['voids']     = 'voids'\n",
    "pdf_type_dict['gaussian']  = 'gaussian'\n",
    "\n",
    "pdf_dict = dict.fromkeys(pdf_strings)\n",
    "\n",
    "one_plus_delta_dict = dict.fromkeys(pdf_strings)\n",
    "\n",
    "b_dict = dict.fromkeys(pdf_strings, 1.)\n",
    "b_dict['LN_b_1_5'] = 1.5\n",
    "\n",
    "m_Ap_ary = np.logspace(-26, -8, 500)\n",
    "\n",
    "z_ary = np.array([1e-4])\n",
    "omega_ary = np.array([firas_nonlin_baryon_low.omega_FIRAS[0]])\n",
    "\n",
    "m_A_sq_z_0 = firas_nonlin_baryon_low.m_A_sq(z_ary, omega_ary)[0]\n",
    "print(np.sqrt(m_A_sq_z_0) / eV)\n",
    "    \n",
    "for key in pdf_strings:\n",
    "    \n",
    "    pdf_dict[key] = np.zeros_like(m_Ap_ary)\n",
    "    \n",
    "    for i,m_Ap in enumerate(tqdm_notebook(m_Ap_ary)):\n",
    "        \n",
    "        if key != 'LN_b_1_5':\n",
    "\n",
    "            pdf_dict[key][i] = firas_nonlin_baryon_low._dP_dz(\n",
    "                z_ary = z_ary, m_Ap = m_Ap, k_min = 1e-3, k_max = 1e4,\n",
    "                omega = omega_ary,\n",
    "                pdf = pdf_type_dict[key],  b = b_dict[key], return_pdf=True\n",
    "            )[2][0][0]\n",
    "            \n",
    "        else:\n",
    "            \n",
    "            pdf_dict[key][i] = firas_nonlin_baryon_low._dP_dz(\n",
    "                z_ary = z_ary, m_Ap = m_Ap, k_min = 1e-3, k_max = 1e4,\n",
    "                omega = omega_ary,\n",
    "                pdf = pdf_type_dict[key],  b = b_dict[key], return_pdf=True\n",
    "            )[2][0][0]"
   ]
  },
  {
   "cell_type": "code",
   "execution_count": 6,
   "metadata": {},
   "outputs": [
    {
     "data": {
      "image/png": "[encoded data removed]",
      "text/plain": [
       "<Figure size 443.077x360 with 1 Axes>"
      ]
     },
     "metadata": {
      "needs_background": "light"
     },
     "output_type": "display_data"
    }
   ],
   "source": [
    "plt.figure(figsize=(8 / 1.3, 6.5 / 1.3))\n",
    "\n",
    "plt.loglog()\n",
    "\n",
    "labels = ['Log-normal PDF', r'$b = 1.5$', 'Analytic PDF', 'Voids PDF', 'Gaussian PDF']\n",
    "\n",
    "ax = plt.gca()\n",
    "\n",
    "for key,label in zip(pdf_dict,labels):\n",
    "\n",
    "    plt.plot(m_Ap_ary**2 / m_A_sq_z_0, pdf_dict[key] * m_A_sq_z_0, label=label)\n",
    "\n",
    "plt.axvline(x=1e-2, ls='--', c='gray', alpha=0.5)\n",
    "plt.axvline(x=1e2,  ls='--', c='gray', alpha=0.5)\n",
    "    \n",
    "plt.legend(fontsize=14, loc='upper right', handlelength=1.3, bbox_to_anchor=(0.98, 1.))\n",
    "\n",
    "plt.xlabel(r'$1 + \\delta_b = m_\\gamma^2 / \\overline{m_\\gamma^2}$')\n",
    "plt.ylabel(r'$\\mathcal{P}(\\delta_b) = \\overline{m_\\gamma^2} \\, f(m_\\gamma^2)$')\n",
    "\n",
    "plt.title(r'\\textbf{Probability density functions at} $z = 0$')\n",
    "\n",
    "    \n",
    "plt.axis([1e-5, 1e6, 1e-12, 1e6])\n",
    "\n",
    "\n",
    "from matplotlib import ticker\n",
    "\n",
    "locmaj = ticker.LogLocator(base=10,numticks=12) \n",
    "ax.xaxis.set_major_locator(locmaj)\n",
    "ax.xaxis.set_major_formatter(\n",
    "    ticker.FixedFormatter([\n",
    "        '', r'$10^{-5}$', '', r'$10^{-3}$', '', r'$10^{-1}$', \n",
    "        '', r'$10^{1}$',  '', r'$10^{3}$' , '', r'$10^5$'\n",
    "    ])\n",
    ")\n",
    "\n",
    "locmin = ticker.LogLocator(base=10.0,subs=(0.2,0.4,0.6,0.8),numticks=12)\n",
    "ax.xaxis.set_minor_locator(locmin)\n",
    "ax.xaxis.set_minor_formatter(ticker.NullFormatter())\n",
    "\n",
    "locmaj = ticker.LogLocator(base=10,numticks=12) \n",
    "ax.yaxis.set_major_locator(locmaj)\n",
    "\n",
    "locmin = ticker.LogLocator(base=10.0, numticks=24)\n",
    "ax.yaxis.set_minor_locator(locmin)\n",
    "ax.yaxis.set_minor_formatter(ticker.NullFormatter())\n",
    "\n",
    "plt.tight_layout()\n",
    "\n",
    "# plt.savefig('../paper/draft-letter/plots/PDFs.pdf')"
   ]
  },
  {
   "cell_type": "code",
   "execution_count": null,
   "metadata": {},
   "outputs": [],
   "source": []
  }
 ],
 "metadata": {
  "kernelspec": {
   "display_name": "Python 3",
   "language": "python",
   "name": "python3"
  },
  "language_info": {
   "codemirror_mode": {
    "name": "ipython",
    "version": 3
   },
   "file_extension": ".py",
   "mimetype": "text/x-python",
   "name": "python",
   "nbconvert_exporter": "python",
   "pygments_lexer": "ipython3",
   "version": "3.7.3"
  },
  "toc": {
   "base_numbering": 1,
   "nav_menu": {},
   "number_sections": true,
   "sideBar": true,
   "skip_h1_title": false,
   "title_cell": "Table of Contents",
   "title_sidebar": "Contents",
   "toc_cell": false,
   "toc_position": {},
   "toc_section_display": true,
   "toc_window_display": false
  }
 },
 "nbformat": 4,
 "nbformat_minor": 2
}
