{
 "cells": [
  {
   "cell_type": "code",
   "execution_count": 1,
   "metadata": {},
   "outputs": [],
   "source": [
    "import os, sys\n",
    "sys.path.append(\"../\")\n",
    "\n",
    "import matplotlib\n",
    "import matplotlib.pyplot as plt\n",
    "import matplotlib.pylab as pylab\n",
    "from matplotlib import gridspec\n",
    "import numpy as np\n",
    "from scipy.optimize import minimize\n",
    "from scipy.stats import chi2\n",
    "from tqdm import *\n",
    "\n",
    "from grf.grf import FIRAS\n",
    "from grf.units import *\n",
    "from grf.pk_interp import PowerSpectrumGridInterpolator\n",
    "\n",
    "from IPython.display import set_matplotlib_formats\n",
    "set_matplotlib_formats('retina')\n",
    "\n",
    "%matplotlib inline\n",
    "%load_ext autoreload\n",
    "%autoreload 2"
   ]
  },
  {
   "cell_type": "markdown",
   "metadata": {},
   "source": [
    "# FIRAS data checks and plot"
   ]
  },
  {
   "cell_type": "code",
   "execution_count": 2,
   "metadata": {},
   "outputs": [
    {
     "name": "stderr",
     "output_type": "stream",
     "text": [
      "/Users/smsharma/anaconda3/lib/python3.7/site-packages/matplotlib/__init__.py:855: MatplotlibDeprecationWarning: \n",
      "examples.directory is deprecated; in the future, examples will be found relative to the 'datapath' directory.\n",
      "  \"found relative to the 'datapath' directory.\".format(key))\n",
      "/Users/smsharma/anaconda3/lib/python3.7/site-packages/matplotlib/__init__.py:846: MatplotlibDeprecationWarning: \n",
      "The text.latex.unicode rcparam was deprecated in Matplotlib 2.2 and will be removed in 3.1.\n",
      "  \"2.2\", name=key, obj_type=\"rcparam\", addendum=addendum)\n"
     ]
    }
   ],
   "source": [
    "# Plot parameters\n",
    "\n",
    "from plot_params import params\n",
    "pylab.rcParams.update(params)\n",
    "\n",
    "cols_default = plt.rcParams['axes.prop_cycle'].by_key()['color']"
   ]
  },
  {
   "cell_type": "code",
   "execution_count": 3,
   "metadata": {},
   "outputs": [],
   "source": [
    "# Where to save plots\n",
    "plots_dir = \"../paper/draft-letter/plots/\""
   ]
  },
  {
   "cell_type": "markdown",
   "metadata": {},
   "source": [
    "## FIRAS data checks"
   ]
  },
  {
   "cell_type": "code",
   "execution_count": 4,
   "metadata": {},
   "outputs": [],
   "source": [
    "pspec = PowerSpectrumGridInterpolator(\"nonlin_matter_bj\")"
   ]
  },
  {
   "cell_type": "code",
   "execution_count": 5,
   "metadata": {},
   "outputs": [
    {
     "name": "stderr",
     "output_type": "stream",
     "text": [
      "../grf/grf.py:633: FutureWarning: read_table is deprecated, use read_csv instead.\n",
      "  names=['freq', 'I', 'residual', 'uncert', 'poles'])\n"
     ]
    }
   ],
   "source": [
    "firas = FIRAS(pspec)"
   ]
  },
  {
   "cell_type": "code",
   "execution_count": 6,
   "metadata": {},
   "outputs": [],
   "source": [
    "chi2_null = minimize(firas.chi2_FIRAS,x0=[2.725],args=(0, np.ones_like(firas.omega_FIRAS)), method='Powell')"
   ]
  },
  {
   "cell_type": "code",
   "execution_count": 7,
   "metadata": {},
   "outputs": [
    {
     "data": {
      "text/plain": [
       "array(2.72501704)"
      ]
     },
     "execution_count": 7,
     "metadata": {},
     "output_type": "execute_result"
    }
   ],
   "source": [
    "chi2_null.x"
   ]
  },
  {
   "cell_type": "code",
   "execution_count": 8,
   "metadata": {},
   "outputs": [
    {
     "name": "stdout",
     "output_type": "stream",
     "text": [
      "chi2 is 48.19672388442093\n",
      "chi2 / ndof is 1.147541044867165\n"
     ]
    }
   ],
   "source": [
    "ndof = len(firas.d) - 1\n",
    "\n",
    "print('chi2 is', chi2_null.fun)\n",
    "print('chi2 / ndof is', chi2_null.fun / ndof)"
   ]
  },
  {
   "cell_type": "code",
   "execution_count": 9,
   "metadata": {},
   "outputs": [
    {
     "data": {
      "text/plain": [
       "58.12403768086803"
      ]
     },
     "execution_count": 9,
     "metadata": {},
     "output_type": "execute_result"
    }
   ],
   "source": [
    "chi2.ppf(q=0.95, df=ndof)"
   ]
  },
  {
   "cell_type": "code",
   "execution_count": 10,
   "metadata": {},
   "outputs": [
    {
     "data": {
      "text/plain": [
       "array([1.01859729, 1.01219083, 1.00665943, 0.96947179, 0.99214751,\n",
       "       0.99333799, 1.01169952, 0.99478948, 0.97820668, 0.98441236,\n",
       "       1.39763349, 0.95627042, 1.03539677, 0.931326  , 0.90965366,\n",
       "       1.04189886, 0.91012744, 0.96399769, 0.94892646, 1.01679604,\n",
       "       1.01600407, 0.99166357, 0.91752175, 1.1235758 , 0.91454281,\n",
       "       1.02221851, 1.00215006, 0.99539556, 1.0102167 , 0.98502826,\n",
       "       0.97942204, 0.92540096, 0.97359247, 1.01144426, 0.97696511,\n",
       "       0.9837021 , 1.01099055, 0.94466418, 1.00737463, 0.98468032,\n",
       "       1.00800534, 1.00442703, 1.00053248])"
      ]
     },
     "execution_count": 10,
     "metadata": {},
     "output_type": "execute_result"
    }
   ],
   "source": [
    "# Amazing!\n",
    "(firas.d - firas.B_CMB(firas.omega_FIRAS, chi2_null.x)  / (1e6 * Jy)) * 1e3 / firas.resid"
   ]
  },
  {
   "cell_type": "code",
   "execution_count": 11,
   "metadata": {},
   "outputs": [
    {
     "name": "stderr",
     "output_type": "stream",
     "text": [
      "../grf/grf.py:170: RuntimeWarning: invalid value encountered in sqrt\n",
      "  z_ary, self.omega(omega_0, z_ary, evolve_z))), nan=1e-18 * eV)\n",
      "../grf/grf.py:176: RuntimeWarning: invalid value encountered in sqrt\n",
      "  z, self.omega(omega_0, z, evolve_z))), nan=1e-18 * eV) - m_A\n",
      "../grf/grf.py:366: RuntimeWarning: invalid value encountered in log\n",
      "  sigma_LN_sq_ary / 2.) ** 2 / (2 * sigma_LN_sq_ary)) * (1. / (m_Ap ** 2 + (b - 1) * m_A_sq))\n",
      "../grf/grf.py:369: RuntimeWarning: invalid value encountered in log\n",
      "  ** 2 / (2 * sigma_LN_sq_ary)) / np.abs(self.dz_dt(z_mesh)) * (m_Ap ** 2 / (m_Ap ** 2 + (b - 1) * m_A_sq))\n"
     ]
    }
   ],
   "source": [
    "# Get disappearance probabilities for benchmark point\n",
    "p1 = 1 - firas.P_tot_perturb(firas.omega_FIRAS, 6e-6, 4e-15 * eV)[2]"
   ]
  },
  {
   "cell_type": "markdown",
   "metadata": {},
   "source": [
    "## FIRAS blackbody plot (Fig. 4)"
   ]
  },
  {
   "cell_type": "code",
   "execution_count": 12,
   "metadata": {},
   "outputs": [
    {
     "name": "stderr",
     "output_type": "stream",
     "text": [
      "/Users/smsharma/anaconda3/lib/python3.7/site-packages/matplotlib/figure.py:2369: UserWarning: This figure includes Axes that are not compatible with tight_layout, so results might be incorrect.\n",
      "  warnings.warn(\"This figure includes Axes that are not compatible \"\n"
     ]
    },
    {
     "data": {
      "image/png": "[encoded data removed]",
      "text/plain": [
       "<Figure size 443.077x360 with 2 Axes>"
      ]
     },
     "metadata": {
      "needs_background": "light"
     },
     "output_type": "display_data"
    }
   ],
   "source": [
    "gs = gridspec.GridSpec(2, 1, height_ratios=[2.8, 1], hspace=0.04)\n",
    "\n",
    "# Top plot\n",
    "\n",
    "ax0 = plt.subplot(gs[0])\n",
    "\n",
    "line2 = ax0.errorbar(firas.df['freq'], firas.d, yerr=firas.df['uncert'] / 1e3, c=cols_default[0], fmt='none', capsize=3, capthick=1, elinewidth=1.5, label='COBE/FIRAS data')\n",
    "line1, = ax0.plot(firas.df['freq'], firas.B_CMB(firas.omega_FIRAS, chi2_null.x)   / (1e6 * Jy), c='k', ls='-', label='Blackbody $T_{\\mathrm{CMB}} = 2.725\\,\\mathrm{K}$')\n",
    "\n",
    "ax0.set_xlim(np.min(firas.df['freq']), np.max(firas.df['freq']))\n",
    "ax0.set_ylim(-50, 420)\n",
    "\n",
    "ax0.set_ylabel(r\"Intensity\\,[MJy\\,sr$^{-1}$]\")\n",
    "line3, = ax0.plot([],[], c=cols_default[1], ls=':', label=r'$m_{A^\\prime}=4\\times 10^{-15}$\\,eV, $\\epsilon=6\\times 10^{-6}$')\n",
    "\n",
    "ax0.set_ylim(-100, 410)\n",
    "first_legend = plt.legend(handles=[line1], loc='upper right', fontsize=14)\n",
    "\n",
    "# Add the legend manually to the current Axes.\n",
    "plt.gca().add_artist(first_legend)\n",
    "\n",
    "# Create another legend for the second line.\n",
    "plt.legend(handles=[line2, line3], loc='lower left', fontsize=14, handlelength=1.8)\n",
    "\n",
    "# Bottom plot\n",
    "\n",
    "ax1 = plt.subplot(gs[1])\n",
    "\n",
    "ax1.errorbar(firas.df['freq'], firas.d - firas.B_CMB(firas.omega_FIRAS, chi2_null.x)   / (1e6 * Jy), yerr=firas.df['uncert'] / 1e3, c=cols_default[0], fmt='none', capsize=3, capthick=1, elinewidth=1.5)\n",
    "ax1.plot(firas.df['freq'], p1 * firas.B_CMB(firas.omega_FIRAS, chi2_null.x)   / (1e6 * Jy) - firas.B_CMB(firas.omega_FIRAS, chi2_null.x)   / (1e6 * Jy), c=cols_default[1], ls=':')\n",
    "ax1.axhline(0., c='k', ls='-', lw=0.5)\n",
    "ax1.set_xlim(np.min(firas.df['freq']), np.max(firas.df['freq']))\n",
    "ax1.set_ylim(-0.15, 0.15)\n",
    "\n",
    "ax1.set_ylabel(\"Residuals\", labelpad=0.1)\n",
    "ax1.set_xlabel(r\"$\\nu\\,[\\mathrm{cm}^{-1}]$\")\n",
    "\n",
    "plt.suptitle(r\"\\bf{COBE/FIRAS CMB spectrum}\", y=0.94, fontsize=18)\n",
    "\n",
    "plt.tight_layout()\n",
    "\n",
    "plt.savefig(plots_dir + \"firas_bb.pdf\", bbox_inches='tight')"
   ]
  },
  {
   "cell_type": "code",
   "execution_count": null,
   "metadata": {},
   "outputs": [],
   "source": []
  }
 ],
 "metadata": {
  "kernelspec": {
   "display_name": "Python 3",
   "language": "python",
   "name": "python3"
  },
  "language_info": {
   "codemirror_mode": {
    "name": "ipython",
    "version": 3
   },
   "file_extension": ".py",
   "mimetype": "text/x-python",
   "name": "python",
   "nbconvert_exporter": "python",
   "pygments_lexer": "ipython3",
   "version": "3.7.3"
  }
 },
 "nbformat": 4,
 "nbformat_minor": 2
}
