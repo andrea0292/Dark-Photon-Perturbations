{
 "cells": [
  {
   "cell_type": "code",
   "execution_count": 437,
   "metadata": {},
   "outputs": [
    {
     "name": "stdout",
     "output_type": "stream",
     "text": [
      "The autoreload extension is already loaded. To reload it, use:\n",
      "  %reload_ext autoreload\n"
     ]
    }
   ],
   "source": [
    "import sys\n",
    "sys.path.append(\"../\")\n",
    "\n",
    "import numpy as np\n",
    "from scipy.interpolate import interp1d, RegularGridInterpolator\n",
    "from tqdm import *\n",
    "import matplotlib.pyplot as plt\n",
    "import matplotlib.pylab as pylab\n",
    "\n",
    "from grf.decay import DecaySpectra\n",
    "from grf.grf import FIRAS\n",
    "from grf.units import *\n",
    "\n",
    "from grf.twentyone import XRay, LymanAlpha, TwentyOne, TwentyOneSolver\n",
    "\n",
    "%matplotlib inline\n",
    "%load_ext autoreload\n",
    "%autoreload 2"
   ]
  },
  {
   "cell_type": "code",
   "execution_count": 119,
   "metadata": {},
   "outputs": [],
   "source": [
    "from plot_params import params\n",
    "pylab.rcParams.update(params)\n",
    "\n",
    "cols_default = plt.rcParams['axes.prop_cycle'].by_key()['color']"
   ]
  },
  {
   "cell_type": "code",
   "execution_count": 120,
   "metadata": {},
   "outputs": [],
   "source": [
    "log_pk_grid_ary = np.load(\"../data/log_pk_grid_ary.npy\")\n",
    "log_pk_nonlin_bj_grid_ary = np.load(\"../data/log_pk_tot_nonlin_grid_ary.npy\")"
   ]
  },
  {
   "cell_type": "code",
   "execution_count": 34,
   "metadata": {},
   "outputs": [],
   "source": [
    "z_compute_ary = np.logspace(-3, 3, 500)\n",
    "k_ary = np.logspace(-4, np.log10(1e3), 500)"
   ]
  },
  {
   "cell_type": "code",
   "execution_count": 48,
   "metadata": {},
   "outputs": [],
   "source": [
    "log_pk_interp = RegularGridInterpolator(points=[np.log10(z_compute_ary),np.log10(k_ary)], values=log_pk_grid_ary,\n",
    "                                        bounds_error=False,\n",
    "                                        fill_value=None)\n",
    "\n",
    "log_pk_nonlin_interp = RegularGridInterpolator(points=[np.log10(z_compute_ary),np.log10(k_ary)], values=log_pk_nonlin_bj_grid_ary,\n",
    "                                        bounds_error=False,\n",
    "                                        fill_value=None)"
   ]
  },
  {
   "cell_type": "code",
   "execution_count": 49,
   "metadata": {},
   "outputs": [],
   "source": [
    "def log_pk_interp_fn(z_ary, k_ary):\n",
    "    log_z_mesh_ary, log_k_mesh_ary = np.log10(np.meshgrid(z_ary, k_ary))\n",
    "    return np.where(np.transpose(log_z_mesh_ary) < -3, log_pk_interp(np.transpose([np.ones_like(log_z_mesh_ary) * -3., log_k_mesh_ary])), log_pk_interp(np.transpose([log_z_mesh_ary, log_k_mesh_ary])) )\n",
    "\n",
    "def log_pk_nonlin_interp_fn(z_ary, k_ary):\n",
    "    log_z_mesh_ary, log_k_mesh_ary = np.log10(np.meshgrid(z_ary, k_ary))\n",
    "    return np.where(np.transpose(log_z_mesh_ary) < -3, log_pk_nonlin_interp(np.transpose([np.ones_like(log_z_mesh_ary) * -3., log_k_mesh_ary])), log_pk_nonlin_interp(np.transpose([log_z_mesh_ary, log_k_mesh_ary])) )"
   ]
  },
  {
   "cell_type": "code",
   "execution_count": 50,
   "metadata": {},
   "outputs": [
    {
     "name": "stderr",
     "output_type": "stream",
     "text": [
      "../grf/grf.py:323: FutureWarning: read_table is deprecated, use read_csv instead.\n",
      "  names =['freq', 'I', 'residual', 'uncert', 'poles'])\n"
     ]
    }
   ],
   "source": [
    "firas = FIRAS(log_pk_interp_fn)\n",
    "spec = DecaySpectra()"
   ]
  },
  {
   "cell_type": "code",
   "execution_count": 511,
   "metadata": {},
   "outputs": [],
   "source": [
    "def get_max_CMB_photon_ratio_z_17(m_Ap, m_a, tau_a): \n",
    "    \n",
    "    eps_base = 1e-6\n",
    "\n",
    "    omega_check_ary = np.concatenate([spec.omega_radio_ary, spec.omega_llfss_ary, [spec.omega_ARCADE2_ary[0]]])\n",
    "    T0_check_ary = np.concatenate([spec.T_radio_fid + 2 * spec.T_radio_unc, spec.T_llfss_fid + 2 * spec.T_llfss_unc,\n",
    "                                           [(spec.T_ARCADE2_fid + 2 * spec.T_ARCADE2_unc)[0]]])\n",
    "\n",
    "    dn_CMB_domega_ARCADE2_upper_check = spec.dn_CMB_domega(omega_check_ary, z=0, T_0=T0_check_ary) / (eV ** -1)\n",
    "\n",
    "    dn_A_domega_ary = []\n",
    "\n",
    "    for omega in (omega_check_ary):\n",
    "\n",
    "        if m_Ap < 5e-12 * eV:\n",
    "            z_ary, dP_dz_ary, _, _  = firas.P_tot_perturb(omega, eps_base, m_Ap)\n",
    "            P_ary = (dP_dz_ary[1:] + dP_dz_ary[:-1]) / 2. * np.diff(z_ary)\n",
    "            z_res_ary = (z_ary[1:] + z_ary[:-1]) / 2.\n",
    "        else:\n",
    "            z_res_ary, _, P_ary = firas.P_tot(omega, eps_base, m_Ap)\n",
    "        \n",
    "        dn_A_domega = spec.dn_A_domega(m_a=m_a, z=0, z_res_ary=z_res_ary, P_ary=P_ary, omega=omega, tau_a=tau_a) / (eV ** -1)\n",
    "        dn_A_domega_ary.append(dn_A_domega)\n",
    "\n",
    "    dn_A_domega_ary = np.array(dn_A_domega_ary)\n",
    "\n",
    "    f_a = spec.f_a(tau_a, m_a)\n",
    "\n",
    "    eps_max_stellar = spec.eps_stellar_cooling(f_a)\n",
    "\n",
    "    eps_max_ARCADE2 = eps_base * np.sqrt(np.min(dn_CMB_domega_ARCADE2_upper_check / dn_A_domega_ary))\n",
    "\n",
    "    m_Ap_FIRAS, eps_bound_FIRAS = np.load(\"../data/firas_limit.npy\", allow_pickle=1)\n",
    "    m_Ap_FIRAS *= eV\n",
    "\n",
    "    eps_max_FIRAS = 10 ** np.interp(np.log10(m_Ap), np.log10(m_Ap_FIRAS), np.log10(eps_bound_FIRAS))\n",
    "    \n",
    "    \n",
    "    eps_max = np.min([eps_max_stellar, eps_max_ARCADE2, eps_max_FIRAS])\n",
    "\n",
    "    # Get ratio of 21-cm photon number densities at z=17\n",
    "    dn_CMB_domega = spec.dn_CMB_domega(omega=spec.omega_21, z=17)\n",
    "\n",
    "    omega_0 = spec.omega_21 / (1 + 17)\n",
    "\n",
    "    if m_Ap < 5e-12 * eV:\n",
    "        z_ary, dP_dz_ary, _, _  = firas.P_tot_perturb(omega_0, eps_max, m_Ap)\n",
    "        P_ary = (dP_dz_ary[1:] + dP_dz_ary[:-1]) / 2. * np.diff(z_ary)\n",
    "        z_res_ary = (z_ary[1:] + z_ary[:-1]) / 2.\n",
    "    else:\n",
    "        z_ary = np.logspace(-1, 3, 500)\n",
    "        z_res_ary, _, P_ary = firas.P_tot(omega_0, eps_max, m_Ap)\n",
    "        for i_z, z in enumerate(z_res_ary):\n",
    "            P_ary[np.where(z_ary < z)[0][-1]] = P_ary[i_z]\n",
    "\n",
    "    dn_A_domega = spec.dn_A_domega(m_a=m_a, z=17, z_res_ary=z_res_ary, P_ary=P_ary,\n",
    "                                                     omega=spec.omega_21, tau_a=tau_a)\n",
    "\n",
    "    return z_ary, P_ary, ((dn_A_domega + dn_CMB_domega) / dn_CMB_domega), eps_max"
   ]
  },
  {
   "cell_type": "code",
   "execution_count": 547,
   "metadata": {},
   "outputs": [
    {
     "data": {
      "text/plain": [
       "0.0001547591758499081"
      ]
     },
     "execution_count": 547,
     "metadata": {},
     "output_type": "execute_result"
    }
   ],
   "source": [
    "m_a / eV"
   ]
  },
  {
   "cell_type": "code",
   "execution_count": 530,
   "metadata": {},
   "outputs": [],
   "source": [
    "m_Ap = 1e-12 * eV\n",
    "z_res = spec.get_z_crossings(m_Ap, spec.omega_21)[-1]\n",
    "z_end = 15.\n",
    "m_a = (1 + z_res) / (z_end + 1) * spec.omega_21 * 2\n",
    "# m_a = 10 ** -3.0 * eV\n",
    "tau_a = spec.tau_a_LL()\n"
   ]
  },
  {
   "cell_type": "code",
   "execution_count": 531,
   "metadata": {},
   "outputs": [
    {
     "name": "stderr",
     "output_type": "stream",
     "text": [
      "/Users/smsharma/anaconda3/lib/python3.7/site-packages/ipykernel_launcher.py:36: RuntimeWarning: divide by zero encountered in log10\n"
     ]
    },
    {
     "data": {
      "text/plain": [
       "6.586228256059552"
      ]
     },
     "execution_count": 531,
     "metadata": {},
     "output_type": "execute_result"
    }
   ],
   "source": [
    "z_ary, P_ary, max_rat, eps_max = get_max_CMB_photon_ratio_z_17(m_Ap, m_a, tau_a)\n",
    "\n",
    "max_rat"
   ]
  },
  {
   "cell_type": "code",
   "execution_count": 532,
   "metadata": {},
   "outputs": [],
   "source": [
    "z_plot_ary = np.logspace(-1, 3, 500)\n",
    "spec.compute_temperature_evolution(m_a, tau_a / spec.tau_u, z_plot_ary, z_ary, P_ary)\n"
   ]
  },
  {
   "cell_type": "code",
   "execution_count": 533,
   "metadata": {},
   "outputs": [
    {
     "data": {
      "image/png": "[encoded data removed]",
      "text/plain": [
       "<Figure size 432x288 with 1 Axes>"
      ]
     },
     "metadata": {
      "needs_background": "light"
     },
     "output_type": "display_data"
    }
   ],
   "source": [
    "plt.plot(z_plot_ary, spec.T_CMB_A)\n",
    "plt.plot(z_plot_ary, spec.T_CMB_SM)\n",
    "\n",
    "plt.xscale(\"log\")\n",
    "plt.yscale(\"log\")"
   ]
  },
  {
   "cell_type": "code",
   "execution_count": null,
   "metadata": {},
   "outputs": [
    {
     "data": {
      "application/vnd.jupyter.widget-view+json": {
       "model_id": "5077f1fa84794c71812eac237995cb4c",
       "version_major": 2,
       "version_minor": 0
      },
      "text/plain": [
       "HBox(children=(IntProgress(value=0, max=1000), HTML(value='')))"
      ]
     },
     "metadata": {},
     "output_type": "display_data"
    },
    {
     "name": "stdout",
     "output_type": "stream",
     "text": [
      "\n"
     ]
    }
   ],
   "source": [
    "to = TwentyOne(z_min=10., z_max=300., f_star_L=0.05, f_star_X=0.001, T_vir_cut=2e4 * Kelv)\n",
    "to_HH = TwentyOne(z_min=10., z_max=300., f_star_L=0.5, f_star_X=0.004, T_vir_cut=7e4 * Kelv)\n",
    "# to_noX = TwentyOne(z_min=10., z_max=251., f_star_L=0.5, f_star_X=1e-5, T_vir_cut=7e4 * Kelv)"
   ]
  },
  {
   "cell_type": "code",
   "execution_count": null,
   "metadata": {},
   "outputs": [],
   "source": [
    "z_max_high = 250.\n",
    "z_min = 11.\n",
    "z_ary_high = np.logspace(np.log10(z_min), np.log10(z_max_high), 200)[:: -1]"
   ]
  },
  {
   "cell_type": "code",
   "execution_count": null,
   "metadata": {},
   "outputs": [],
   "source": [
    "T_end_15_interp = interp1d(z_plot_ary, spec.T_CMB_A)\n",
    "\n",
    "T_gamma = lambda z: T_end_15_interp(z)\n",
    "to_res_130_solve = TwentyOneSolver(T_gamma=T_gamma, to=to, z_ary=z_ary_high)\n",
    "to_res_130_solution = to_res_130_solve.solve()"
   ]
  },
  {
   "cell_type": "code",
   "execution_count": null,
   "metadata": {},
   "outputs": [],
   "source": [
    "T_gamma_SM = lambda z: to.T_CMB(z)\n",
    "to_SM_solve = TwentyOneSolver(T_gamma=T_gamma_SM, to=to_HH, z_ary=z_ary_high)\n",
    "to_SM_solution = to_SM_solve.solve()"
   ]
  },
  {
   "cell_type": "code",
   "execution_count": null,
   "metadata": {},
   "outputs": [],
   "source": [
    "T21_EDGES = np.loadtxt(\"../data/MathematicaExports/T21EDGES.dat\")\n",
    "T21_EDGES_min = np.loadtxt(\"../data/MathematicaExports/T21EDGESMin.dat\")\n",
    "T21_EDGES_max = np.loadtxt(\"../data/MathematicaExports/T21EDGESMax.dat\")\n",
    "z_ary_EDGES = np.loadtxt(\"../data/MathematicaExports/T21EDGESzRange.dat\")"
   ]
  },
  {
   "cell_type": "code",
   "execution_count": null,
   "metadata": {},
   "outputs": [],
   "source": [
    "fig, ax = plt.subplots(figsize=(6, 5))\n",
    "# ax.tick_params(labelleft=False)    \n",
    "\n",
    "plt.plot(z_ary_EDGES,T21_EDGES, alpha=0.5, color='forestgreen')\n",
    "plt.fill_between(z_ary_EDGES, T21_EDGES_min, T21_EDGES_max, alpha=0.15, color='forestgreen', label='EDGES (2018)')\n",
    "plt.plot(to_res_130_solve.z_ary, to_res_130_solve.delta_T_b_ary, label=r'$\\gamma^\\prime \\rightarrow \\gamma$', alpha=0.9, color='firebrick')\n",
    "plt.plot(to_SM_solve.z_ary, to_SM_solve.delta_T_b_ary, label='Standard Model', color='k', alpha=0.5, ls='--')\n",
    "# plt.plot(to_PL_highz_solve_PL.z_ary, to_PL_highz_solve_PL.delta_T_b_ary, label='Power law', color='k', alpha=0.5, ls=':')\n",
    "\n",
    "plt.xlabel(\"$z$\")\n",
    "# plt.ylabel(\"$\\Delta T_{\\mathrm b}\\,\\mathrm{[K]}$\")\n",
    "plt.title(r\"\\textbf{Resonance at ${z=130}$}\", fontsize=20)\n",
    "\n",
    "plt.legend(loc='center', fontsize=15)\n",
    "\n",
    "plt.xlim(np.min(to_res_130_solve.z_ary), np.max(to_res_130_solve.z_ary))\n",
    "\n",
    "plt.xscale(\"log\")\n",
    "\n",
    "# plt.ylim(-1.2, 0.1)\n",
    "\n",
    "\n",
    "# plt.tight_layout()\n",
    "\n",
    "# plt.text(13, -1.14, r\"$\\epsilon=10^{-8}$\", fontsize=14)\n",
    "# plt.text(13, -1.06, r\"$m_{\\gamma^\\prime} = 4.7\\times 10^{-13}\\,\\mathrm{eV}, m_{a} = 10^{-4}\\,\\mathrm{eV}$\", fontsize=14)\n",
    "\n",
    "# plt.savefig(plots_dir + \"T_b_z_res_130.pdf\", bbox_inches='tight',pad_inches = 0.05)\n"
   ]
  },
  {
   "cell_type": "code",
   "execution_count": 521,
   "metadata": {},
   "outputs": [
    {
     "data": {
      "text/plain": [
       "<matplotlib.legend.Legend at 0x1a5b25c0b8>"
      ]
     },
     "execution_count": 521,
     "metadata": {},
     "output_type": "execute_result"
    },
    {
     "data": {
      "image/png": "[encoded data removed]",
      "text/plain": [
       "<Figure size 432x360 with 1 Axes>"
      ]
     },
     "metadata": {
      "needs_background": "light"
     },
     "output_type": "display_data"
    }
   ],
   "source": [
    "fig, ax = plt.subplots(figsize=(6, 5))\n",
    "\n",
    "ax.plot(to_res_130_solve.z_ary, to_res_130_solve.T_k_ary, label='$T_\\mathrm{k}$', color='cornflowerblue')\n",
    "ax.plot(to_res_130_solve.z_ary, to_res_130_solve.T_gamma_ary, label='$T_\\gamma$', color='firebrick')\n",
    "ax.plot(to_res_130_solve.z_ary, to_res_130_solve.T_s_ary, label='$T_\\mathrm{s}$', color='forestgreen')\n",
    "\n",
    "# ax.plot(to_PL_highz_solve_PL.z_ary, to_PL_highz_solve_PL.T_k_ary, label='$T_k$', color='cornflowerblue', ls=':')\n",
    "# ax.plot(to_PL_highz_solve_PL.z_ary, to_PL_highz_solve_PL.T_gamma_ary, label='$T_\\gamma$', color='firebrick', ls=':')\n",
    "# ax.plot(to_PL_highz_solve_PL.z_ary, to_PL_highz_solve_PL.T_s_ary, label='$T_s$', color='forestgreen', ls=':')\n",
    "\n",
    "ax.plot(to_SM_solve.z_ary, to_SM_solve.T_k_ary, label='$T_k$', color='cornflowerblue', ls='--')\n",
    "ax.plot(to_SM_solve.z_ary, to_SM_solve.T_gamma_ary, label='$T_\\gamma$', color='firebrick', ls='--')\n",
    "ax.plot(to_SM_solve.z_ary, to_SM_solve.T_s_ary, label='$T_s$', color='forestgreen', ls='--')\n",
    "\n",
    "ax.set_xlabel(\"$z$\")\n",
    "ax.set_ylabel(\"$T\\,\\mathrm{[K]}$\")\n",
    "ax.set_title(r\"\\bf{Temperature evolution}\")\n",
    "\n",
    "ax.set_yscale(\"log\")\n",
    "plt.xscale(\"log\")\n",
    "\n",
    "# ax.set_xlim(np.min(to_res_20_solve.z_ary), np.max(to_res_20_solve.z_ary))\n",
    "ax.set_ylim(5,1e4)\n",
    "\n",
    "# plt.tight_layout()\n",
    "\n",
    "handles,labels = ax.get_legend_handles_labels()\n",
    "\n",
    "# custom_lines = [Line2D([0], [0], color='k', linestyle=ls) for ls in ['-','--',':']]\n",
    "# custom_labels = [r'$\\gamma^\\prime \\rightarrow \\gamma$', 'Standard Model', 'Power law']\n",
    "\n",
    "# # Modify them with new legend marker and label\n",
    "# handles = list(handles[:3]) + custom_lines\n",
    "# labels = list(labels[:3]) + custom_labels\n",
    "\n",
    "ax.legend(handles, labels, ncol=2)\n",
    "\n"
   ]
  },
  {
   "cell_type": "code",
   "execution_count": 300,
   "metadata": {},
   "outputs": [
    {
     "name": "stderr",
     "output_type": "stream",
     "text": [
      "  0%|          | 0/20 [00:00<?, ?it/s]/Users/smsharma/anaconda3/lib/python3.7/site-packages/ipykernel_launcher.py:31: RuntimeWarning: divide by zero encountered in true_divide\n",
      "/Users/smsharma/anaconda3/lib/python3.7/site-packages/ipykernel_launcher.py:36: RuntimeWarning: divide by zero encountered in log10\n",
      "/Users/smsharma/anaconda3/lib/python3.7/site-packages/astropy/cosmology/core.py:1170: IntegrationWarning: The algorithm does not converge.  Roundoff error is detected\n",
      "  in the extrapolation table.  It is assumed that the requested tolerance\n",
      "  cannot be achieved, and that the returned result (if full_output = 1) is \n",
      "  the best which can be obtained.\n",
      "  red, np.inf, epsabs=0, epsrel=1e-4)[0]\n",
      "100%|██████████| 20/20 [07:17<00:00, 21.88s/it]\n"
     ]
    }
   ],
   "source": [
    "m_Ap_ary = np.logspace(-14, -9, 20) * eV\n",
    "m_a_ary = np.logspace(-5, -1, 10) * eV\n",
    "\n",
    "ratio_ary = np.zeros((len(m_Ap_ary), len(m_a_ary)))\n",
    "\n",
    "for i_m_A, m_Ap in enumerate(tqdm(m_Ap_ary)):\n",
    "    for i_m_a, m_a in enumerate(m_a_ary):\n",
    "        ratio_ary[i_m_A, i_m_a] = get_max_CMB_photon_ratio_z_17(m_Ap, m_a, tau_a)\n"
   ]
  },
  {
   "cell_type": "code",
   "execution_count": 301,
   "metadata": {},
   "outputs": [],
   "source": [
    "z_res_plot_ary = [100, 130, 200, 300]\n",
    "m_A_plot_ary = []\n",
    "for z_res in z_res_plot_ary:\n",
    "    m_A = np.sqrt(spec.m_A_sq(z=z_res, omega=spec.omega_21)) \n",
    "    m_A_plot_ary.append(m_A / eV)\n"
   ]
  },
  {
   "cell_type": "code",
   "execution_count": 304,
   "metadata": {},
   "outputs": [
    {
     "data": {
      "image/png": "[encoded data removed]",
      "text/plain": [
       "<Figure size 443.077x360 with 2 Axes>"
      ]
     },
     "metadata": {
      "needs_background": "light"
     },
     "output_type": "display_data"
    }
   ],
   "source": [
    "# mpl.rcParams['figure.figsize'] = 7.5, 5.5\n",
    "\n",
    "ratio_ary_trans = np.transpose(ratio_ary)\n",
    "\n",
    "levels = [3.]\n",
    "X, Y = np.meshgrid(np.log10(m_Ap_ary / eV), np.log10(m_a_ary / eV))\n",
    "\n",
    "fig, ax = plt.subplots()\n",
    "\n",
    "CS = ax.contour(X, Y, ratio_ary_trans, levels = levels, linestyles=['-','--'], colors='k', linewidths=2, alpha=0.7)\n",
    "\n",
    "fmt = {}\n",
    "strs = ['3']\n",
    "for l, s in zip(CS.levels, strs):\n",
    "    fmt[l] = s\n",
    "    \n",
    "im = ax.imshow(np.log10(ratio_ary_trans), cmap = 'YlGn', aspect='auto', origin='lower', extent=[-14, -9, -5, -1])\n",
    "\n",
    "ax.clabel(CS, fmt=fmt,inline=1, fontsize=14)\n",
    "\n",
    "\n",
    "# ax.plot(np.log10(m_A_ary / eV), np.log10(m_a_EDGES_ary / eV), color='blue', label='$z_\\mathrm{end} = 15$')\n",
    "\n",
    "cbar = fig.colorbar(im)\n",
    "cbar.set_label(r'$\\log_{10}(T_A^{\\mathrm{max}} / T_{\\mathrm{CMB}})_{z=17}$')\n",
    "\n",
    "ax.set_xlabel('$\\log_{10}\\,(m_{A^\\prime}\\,[\\mathrm{eV}])$')\n",
    "ax.set_ylabel('$\\log_{10}\\,(m_a\\,[\\mathrm{eV}])$')\n",
    "\n",
    "ax.set_xlim(-14, -9)\n",
    "ax.set_ylim(-6, -1)\n",
    "\n",
    "# ax_top = ax.twiny()\n",
    "# ax_top.set_xlim(1,2)\n",
    "\n",
    "colors = ['red', 'green', 'orange', 'magenta', 'grey', 'pink']\n",
    "for i_z_res, z_res in enumerate(z_res_plot_ary):\n",
    "    m_A = np.sqrt(spec.m_A_sq(z=z_res, omega=spec.omega_21)) \n",
    "    plt.axvline(np.log10(m_A / eV), label='$z_\\mathrm{res} = ' + str(z_res_plot_ary[i_z_res]) + \"$\", color = colors[i_z_res])\n",
    "\n",
    "plt.legend(loc='lower right', ncol=2)\n",
    "\n",
    "plt.title(r\"\\bf{Maximum allowed injection at $z=17$}\")\n",
    "\n",
    "plt.tight_layout()\n"
   ]
  },
  {
   "cell_type": "code",
   "execution_count": 241,
   "metadata": {},
   "outputs": [
    {
     "name": "stderr",
     "output_type": "stream",
     "text": [
      "/Users/smsharma/anaconda3/lib/python3.7/site-packages/ipykernel_launcher.py:3: TqdmDeprecationWarning: This function will be removed in tqdm==5.0.0\n",
      "Please use `tqdm.notebook.tqdm` instead of `tqdm.tqdm_notebook`\n",
      "  This is separate from the ipykernel package so we can avoid doing imports until\n"
     ]
    },
    {
     "data": {
      "application/vnd.jupyter.widget-view+json": {
       "model_id": "259b7eb6dcdf4babbf90a58a3157c789",
       "version_major": 2,
       "version_minor": 0
      },
      "text/plain": [
       "HBox(children=(IntProgress(value=0, max=20), HTML(value='')))"
      ]
     },
     "metadata": {},
     "output_type": "display_data"
    },
    {
     "name": "stdout",
     "output_type": "stream",
     "text": [
      "\n"
     ]
    }
   ],
   "source": [
    "dn_A_domega_plot_ary = []\n",
    "\n",
    "for omega in tqdm_notebook(omega_ary):\n",
    "        z_ary, dP_dz_ary, _, __  = firas.P_tot_perturb(omega, eps_max, m_Ap)\n",
    "        P_ary = (dP_dz_ary[1:] + dP_dz_ary[:-1]) / 2. * np.diff(z_ary)\n",
    "        z_res_ary = (z_ary[1:] + z_ary[:-1]) / 2.\n",
    "\n",
    "        dn_A_domega = spec.dn_A_domega(m_a=m_a, z=0, z_res_ary=z_res_ary, P_ary=P_ary, omega=omega, tau_a=spec.tau_a_LL()) / (eV ** -1)\n",
    "        dn_A_domega_plot_ary.append(dn_A_domega)\n",
    "\n",
    "dn_A_domega_plot_ary = np.array(dn_A_domega_plot_ary)"
   ]
  },
  {
   "cell_type": "code",
   "execution_count": 242,
   "metadata": {},
   "outputs": [
    {
     "data": {
      "text/plain": [
       "Text(0.5, 1.0, '$z=0$')"
      ]
     },
     "execution_count": 242,
     "metadata": {},
     "output_type": "execute_result"
    },
    {
     "data": {
      "image/png": "[encoded data removed]",
      "text/plain": [
       "<Figure size 443.077x360 with 1 Axes>"
      ]
     },
     "metadata": {
      "needs_background": "light"
     },
     "output_type": "display_data"
    }
   ],
   "source": [
    "dn_CMB_domega_ARCADE2_mean = spec.dn_CMB_domega(spec.omega_ARCADE2_ary, z=0, T_0=spec.T_ARCADE2_fid) *  eV\n",
    "dn_CMB_domega_ARCADE2_upper = spec.dn_CMB_domega(spec.omega_ARCADE2_ary, z=0, T_0=spec.T_ARCADE2_fid + spec.T_ARCADE2_unc) *  eV\n",
    "dn_CMB_domega_ARCADE2_lower = spec.dn_CMB_domega(spec.omega_ARCADE2_ary, z=0, T_0=spec.T_ARCADE2_fid - spec.T_ARCADE2_unc) *  eV\n",
    "\n",
    "dn_CMB_domega_radio_mean = spec.dn_CMB_domega(spec.omega_radio_ary, z=0, T_0=spec.T_radio_fid) *  eV\n",
    "dn_CMB_domega_radio_upper = spec.dn_CMB_domega(spec.omega_radio_ary, z=0, T_0=spec.T_radio_fid + spec.T_radio_unc) *  eV\n",
    "dn_CMB_domega_radio_lower = spec.dn_CMB_domega(spec.omega_radio_ary, z=0, T_0=spec.T_radio_fid - spec.T_radio_unc) *  eV\n",
    "\n",
    "dn_CMB_domega_llfss_mean = spec.dn_CMB_domega(spec.omega_llfss_ary, z=0, T_0=spec.T_llfss_fid) *  eV\n",
    "dn_CMB_domega_llfss_upper = spec.dn_CMB_domega(spec.omega_llfss_ary, z=0, T_0=spec.T_llfss_fid + spec.T_llfss_unc) *  eV\n",
    "dn_CMB_domega_llfss_lower = spec.dn_CMB_domega(spec.omega_llfss_ary, z=0, T_0=spec.T_llfss_fid - spec.T_llfss_unc) *  eV\n",
    "\n",
    "omega_ary = np.logspace(-11, -5.5, 20)\n",
    "\n",
    "plt.plot(omega_ary / eV, dn_A_domega_plot_ary) \n",
    "\n",
    "# plt.plot()\n",
    "plt.xscale(\"log\")\n",
    "plt.yscale(\"log\")\n",
    "\n",
    "plt.ylim(1e-21,1e-15)\n",
    "\n",
    "plt.errorbar(spec.omega_ARCADE2_ary / eV, np.array(dn_CMB_domega_ARCADE2_mean), xerr=0, yerr=[dn_CMB_domega_ARCADE2_upper - dn_CMB_domega_ARCADE2_mean, \n",
    "                                                                 dn_CMB_domega_ARCADE2_mean - dn_CMB_domega_ARCADE2_lower],\n",
    "            fmt='o', capthick=1, capsize=1, markersize=0, color='magenta')\n",
    "\n",
    "plt.errorbar(spec.omega_radio_ary / eV, np.array(dn_CMB_domega_radio_mean), xerr=0, yerr=[dn_CMB_domega_radio_upper - dn_CMB_domega_radio_mean, \n",
    "                                                                 dn_CMB_domega_radio_mean - dn_CMB_domega_radio_lower],\n",
    "            fmt='o', capthick=1, capsize=1, markersize=0, color='blue')\n",
    "\n",
    "plt.errorbar(spec.omega_llfss_ary / eV, np.array(dn_CMB_domega_llfss_mean), xerr=0, yerr=[dn_CMB_domega_llfss_upper - dn_CMB_domega_llfss_mean, \n",
    "                                                                 dn_CMB_domega_llfss_mean - dn_CMB_domega_llfss_lower],\n",
    "            fmt='o', capthick=1, capsize=1, markersize=0, color='green')\n",
    "\n",
    "\n",
    "plt.xlabel(r\"$\\omega$\\,[eV]\")\n",
    "plt.ylabel(r\"$dn/d\\omega$\\,[eV$^{-1}$]\")\n",
    "\n",
    "plt.title(\"$z=0$\")"
   ]
  },
  {
   "cell_type": "code",
   "execution_count": 70,
   "metadata": {},
   "outputs": [
    {
     "data": {
      "text/plain": [
       "3.0859873838446803e-19"
      ]
     },
     "execution_count": 70,
     "metadata": {},
     "output_type": "execute_result"
    }
   ],
   "source": [
    "spec.dn_CMB_domega(spec.omega_ARCADE2_ary[0], z=0, T_0=spec.T_ARCADE2_fid[0]) / (eV ** -1)"
   ]
  },
  {
   "cell_type": "code",
   "execution_count": null,
   "metadata": {},
   "outputs": [],
   "source": [
    "def get_max_CMB_photon_ratio_z_17(z_res, m_a, tau_a):\n",
    "    tau_a_div_tau_u = tau_a / tau_u\n",
    "    m_A = np.sqrt(spec.m_A_sq(z=z_res, omega=omega_21))\n",
    "    \n",
    "    z_cross, P_mult = spec.P_tot(omega_baseline, eps_baseline, m_A, evolve_z=False)\n",
    "        \n",
    "    z_P_bin_ary = np.logspace(-1,3.2,1000)\n",
    "    z_P_bin_centers_ary = 10 ** ((np.log10(z_P_bin_ary[1:]) + np.log10(z_P_bin_ary[:-1])) / 2.)\n",
    "    P_ary = np.zeros(len(z_P_bin_ary) - 1)\n",
    "        \n",
    "    for i_z, z in enumerate(z_cross):\n",
    "        P_ary[np.where(z_P_bin_ary < z)[0][-1]] = P_mult[i_z]\n",
    "\n",
    "    # Checks against existing constraints\n",
    "\n",
    "    if m_a / 2 / (1 + z_cross[0]) < omega_radio_ary[0]:\n",
    "        eps_ARCADE2 = 99.\n",
    "    else:\n",
    "        eps_ARCADE2 = eps_baseline * np.sqrt(spec.ratio_ARCADE2(m_a, z_P_bin_centers_ary, P_ary, tau_a))\n",
    "\n",
    "    f_a = spec.f_a(tau_a, m_a)\n",
    "\n",
    "    eps_stellar = spec.eps_stellar_cooling(f_a)\n",
    "    eps_max_FIRAS = 10 ** np.interp(np.log10(m_A), np.log10(m_Ap_FIRAS), np.log10(eps_bound_FIRAS))\n",
    "    \n",
    "    eps_max = np.min([eps_stellar, eps_ARCADE2, eps_max_FIRAS])\n",
    "        \n",
    "    # Get ratio of 21-cm photon number densities at z=17\n",
    "    dn_CMB_domega = spec.dn_CMB_domega(omega=omega_21, z=17)\n",
    "    dn_A_domega = spec.dn_A_domega(m_a=m_a, z=17, z_res_ary=z_P_bin_centers_ary, P_ary=P_ary * (eps_max / eps_baseline) ** 2,\n",
    "                                                     omega=omega_21, tau_a=tau_a)\n",
    "    return m_A, eps_max, z_P_bin_centers_ary, z_P_bin_ary, P_ary, ((dn_A_domega + dn_CMB_domega) / dn_CMB_domega)"
   ]
  },
  {
   "cell_type": "code",
   "execution_count": null,
   "metadata": {},
   "outputs": [],
   "source": [
    "f_DM = 1.\n",
    "z_res = 150.\n",
    "m_a = 10 ** -4. * eV\n",
    "\n",
    "tau_a = spec.tau_a_LL() \n",
    "tau_a_div_tau_u = tau_a / tau_u\n",
    "\n",
    "m_A, eps_max, z_P_bin_centers_ary,z_P_bin_ary, P_ary, ratio_z_17 = get_max_CMB_photon_ratio_z_17(f_DM, z_res, m_a, tau_a)\n",
    "\n",
    "print(ratio_z_17)\n"
   ]
  }
 ],
 "metadata": {
  "kernelspec": {
   "display_name": "Python 3",
   "language": "python",
   "name": "python3"
  },
  "language_info": {
   "codemirror_mode": {
    "name": "ipython",
    "version": 3
   },
   "file_extension": ".py",
   "mimetype": "text/x-python",
   "name": "python",
   "nbconvert_exporter": "python",
   "pygments_lexer": "ipython3",
   "version": "3.7.3"
  }
 },
 "nbformat": 4,
 "nbformat_minor": 2
}
