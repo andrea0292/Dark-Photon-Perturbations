{
 "cells": [
  {
   "cell_type": "code",
   "execution_count": 1,
   "metadata": {},
   "outputs": [],
   "source": [
    "import os, sys\n",
    "from glob import glob\n",
    "sys.path.append(\"../\")\n",
    "\n",
    "import numpy as np\n",
    "import matplotlib.pyplot as plt\n",
    "import matplotlib.pylab as pylab\n",
    "from scipy.interpolate import interp1d, RegularGridInterpolator\n",
    "from tqdm import *\n",
    "\n",
    "import pickle\n",
    "\n",
    "import seaborn as sns\n",
    "\n",
    "from scipy.integrate import quad\n",
    "\n",
    "from grf.grf import TransitionProbabilities, PerturbedProbability, FIRAS\n",
    "from grf.units import *\n",
    "from grf.pk_interp import PowerSpectrumGridInterpolator\n",
    "\n",
    "from IPython.display import set_matplotlib_formats\n",
    "set_matplotlib_formats('retina')\n",
    "\n",
    "%matplotlib inline\n",
    "%load_ext autoreload\n",
    "%autoreload 2"
   ]
  },
  {
   "cell_type": "code",
   "execution_count": 2,
   "metadata": {},
   "outputs": [
    {
     "name": "stderr",
     "output_type": "stream",
     "text": [
      "/Users/smsharma/anaconda3/lib/python3.7/site-packages/matplotlib/__init__.py:855: MatplotlibDeprecationWarning: \n",
      "examples.directory is deprecated; in the future, examples will be found relative to the 'datapath' directory.\n",
      "  \"found relative to the 'datapath' directory.\".format(key))\n",
      "/Users/smsharma/anaconda3/lib/python3.7/site-packages/matplotlib/__init__.py:846: MatplotlibDeprecationWarning: \n",
      "The text.latex.unicode rcparam was deprecated in Matplotlib 2.2 and will be removed in 3.1.\n",
      "  \"2.2\", name=key, obj_type=\"rcparam\", addendum=addendum)\n"
     ]
    }
   ],
   "source": [
    "# Load plot style\n",
    "\n",
    "from plot_params import params\n",
    "del params['backend.qt4']\n",
    "del params['backend.qt5']\n",
    "\n",
    "pylab.rcParams.update(params)\n",
    "\n",
    "cols_default = plt.rcParams['axes.prop_cycle'].by_key()['color']"
   ]
  },
  {
   "cell_type": "markdown",
   "metadata": {},
   "source": [
    "# Preamble"
   ]
  },
  {
   "cell_type": "markdown",
   "metadata": {},
   "source": [
    "## Load pre-computed matter power spectra"
   ]
  },
  {
   "cell_type": "code",
   "execution_count": 3,
   "metadata": {},
   "outputs": [],
   "source": [
    "# Non-linear matter power spectrum. \n",
    "pspec_nonlin_matter       = PowerSpectrumGridInterpolator(\"nonlin_matter\")\n",
    "# Non-linear baryon power spectrum from simulations, lower limit. \n",
    "pspec_nonlin_baryon_lower = PowerSpectrumGridInterpolator(\"franken_lower\")\n",
    "# Non-linear baryon power spectrum from simulations, upper limit. \n",
    "pspec_nonlin_baryon_upper = PowerSpectrumGridInterpolator(\"franken_upper\")"
   ]
  },
  {
   "cell_type": "markdown",
   "metadata": {},
   "source": [
    "## Load class with spectral and PDF information"
   ]
  },
  {
   "cell_type": "code",
   "execution_count": 4,
   "metadata": {},
   "outputs": [
    {
     "name": "stderr",
     "output_type": "stream",
     "text": [
      "../grf/grf.py:633: FutureWarning: read_table is deprecated, use read_csv instead.\n",
      "  names=['freq', 'I', 'residual', 'uncert', 'poles'])\n"
     ]
    }
   ],
   "source": [
    "# Class containing results with non-linear matter power spectrum. \n",
    "firas_nonlin            = FIRAS(pspec_nonlin_matter)\n",
    "# Class containing results with non-linear baryon power spectrum from simulations, lower limit.\n",
    "firas_nonlin_baryon_low = FIRAS(pspec_nonlin_baryon_lower)\n",
    "# Class containing results with non-linear baryon power spectrum from simulations, upper limit. \n",
    "firas_nonlin_baryon_upp = FIRAS(pspec_nonlin_baryon_upper)\n",
    "\n",
    "# Analytic PDF. \n",
    "log_analytic_pdf_interp = pickle.load(open('../data/analytic_pdf_grids/log_analytic_pdf_interp.npy', 'rb'))"
   ]
  },
  {
   "cell_type": "markdown",
   "metadata": {},
   "source": [
    "# Dark photon dark matter energy deposition per baryon calculations"
   ]
  },
  {
   "cell_type": "markdown",
   "metadata": {},
   "source": [
    "## Extract the energy per baryon from DM conversion"
   ]
  },
  {
   "cell_type": "code",
   "execution_count": 5,
   "metadata": {},
   "outputs": [],
   "source": [
    "# Critical density, in g/cm^3. \n",
    "rho_crit = firas_nonlin.cosmo.critical_density(0).value\n",
    "# Omega_DM.\n",
    "Omega_DM = firas_nonlin.cosmo.Odm0\n",
    "\n",
    "# Number density of baryons in keV^3. \n",
    "n_b_in_keV3 = firas_nonlin.n_b(0) * KeV**3\n",
    "\n",
    "# Conversion factor from g/cm^3 to keV^4\n",
    "conv_fac = 4.31846e6 * KeV**4\n",
    "\n",
    "# Energy density of DM in keV^4. \n",
    "rho_DM = Omega_DM*rho_crit * conv_fac\n",
    "\n",
    "# Energy per baryon, if energy in all DM were completely absorbed by baryons.\n",
    "energy_per_baryon = rho_DM/n_b_in_keV3"
   ]
  },
  {
   "cell_type": "markdown",
   "metadata": {},
   "source": [
    "## Compute homogeneous conversion probability and maximum $\\epsilon$"
   ]
  },
  {
   "cell_type": "code",
   "execution_count": 6,
   "metadata": {},
   "outputs": [
    {
     "name": "stderr",
     "output_type": "stream",
     "text": [
      "/Users/smsharma/anaconda3/lib/python3.7/site-packages/ipykernel_launcher.py:17: TqdmDeprecationWarning: This function will be removed in tqdm==5.0.0\n",
      "Please use `tqdm.notebook.tqdm` instead of `tqdm.tqdm_notebook`\n"
     ]
    },
    {
     "data": {
      "application/vnd.jupyter.widget-view+json": {
       "model_id": "1dc319feb3a647bf8ce38581610819a6",
       "version_major": 2,
       "version_minor": 0
      },
      "text/plain": [
       "HBox(children=(IntProgress(value=0), HTML(value='')))"
      ]
     },
     "metadata": {},
     "output_type": "display_data"
    },
    {
     "name": "stdout",
     "output_type": "stream",
     "text": [
      "\n"
     ]
    }
   ],
   "source": [
    "# Compute the homogeneous conversion probability. \n",
    "\n",
    "# Compute the lowest and highest mass for which homogeneous\n",
    "# resonance occurs in the range 2 < z < 6.\n",
    "\n",
    "# These are extremely low mass A', way below the first FIRAS bin. \n",
    "# We can set omega = 0 to obtain this mass range.\n",
    "low_m_Ap = np.sqrt(firas_nonlin.m_A_sq(1.9, 0.)) \n",
    "upp_m_Ap = np.sqrt(firas_nonlin.m_A_sq(6.1, 0.)) \n",
    "\n",
    "# Range of masses to compute the homogeneous transition probabilities. \n",
    "# Mass in natural units of the code: keV.\n",
    "m_Ap_homo_ary = np.logspace(np.log10(low_m_Ap), np.log10(upp_m_Ap), 100)\n",
    "\n",
    "# Obtain P/eps^2. \n",
    "P_over_eps2_homo_ary = np.array(\n",
    "    [firas_nonlin.P_tot([m_Ap], 1., m_Ap, evolve_z=False)[2][0][0] for m_Ap in tqdm_notebook(m_Ap_homo_ary)]\n",
    ")\n",
    "\n",
    "# Obtain the maximum epsilon.\n",
    "eps_max_homo_ary = np.sqrt(1.*eV/(P_over_eps2_homo_ary * energy_per_baryon))\n",
    "# Set all values not in 2 < z < 6 to 2 to produce a cut-off. \n",
    "# Set this by testing m_Ap against the plasma mass at z = 2 and z = 6.\n",
    "eps_max_homo_ary[m_Ap_homo_ary < np.sqrt(firas_nonlin.m_A_sq(2., 0.))] = 2. \n",
    "eps_max_homo_ary[m_Ap_homo_ary > np.sqrt(firas_nonlin.m_A_sq(6., 0.))] = 2. \n",
    "\n",
    "# Rescale m_Ap_homo_ary to eV.\n",
    "m_Ap_homo_ary /= eV"
   ]
  },
  {
   "cell_type": "markdown",
   "metadata": {},
   "source": [
    "## Compute inhomogeneous conversion probability and maximum $\\epsilon$"
   ]
  },
  {
   "cell_type": "code",
   "execution_count": 7,
   "metadata": {},
   "outputs": [
    {
     "name": "stderr",
     "output_type": "stream",
     "text": [
      "/Users/smsharma/anaconda3/lib/python3.7/site-packages/ipykernel_launcher.py:64: TqdmDeprecationWarning: This function will be removed in tqdm==5.0.0\n",
      "Please use `tqdm.notebook.tqdm` instead of `tqdm.tqdm_notebook`\n"
     ]
    },
    {
     "data": {
      "application/vnd.jupyter.widget-view+json": {
       "model_id": "cb8e9e8192a948388608a17a187991ef",
       "version_major": 2,
       "version_minor": 0
      },
      "text/plain": [
       "HBox(children=(IntProgress(value=0, max=200), HTML(value='')))"
      ]
     },
     "metadata": {},
     "output_type": "display_data"
    },
    {
     "name": "stdout",
     "output_type": "stream",
     "text": [
      "\n"
     ]
    }
   ],
   "source": [
    "# Compute the inhomogeneous conversion probability. \n",
    "\n",
    "# Redshift and m_A' arrays.\n",
    "z_ary = np.logspace(np.log10(2), np.log10(6), 200)\n",
    "m_Ap_ary = np.logspace(-17, -8, 200)\n",
    "\n",
    "# Probability/eps^2 for different choice of PDFs / power spectra. \n",
    "# Store as dictionary for more \n",
    "\n",
    "P_over_eps2_dict = {\n",
    "    'analytic_fid':     None, 'analytic_delt_1': None, 'analytic_delt_3': None, 'analytic_delt_4': None,\n",
    "    'lognormal_low_fid': None, 'lognormal_low_delt_1': None, 'lognormal_low_delt_3': None,\n",
    "    'lognormal_low_delt_4': None, 'lognormal_b_1_5_low':  None,'gaussian_low': None, 'voids': None, \n",
    "    'lognormal_low_no_delt': None\n",
    "}\n",
    "\n",
    "one_plus_delta_dict = dict(P_over_eps2_dict)\n",
    "\n",
    "pdf_dict = dict(P_over_eps2_dict)\n",
    "\n",
    "eps_max_dict = dict(P_over_eps2_dict)\n",
    "\n",
    "b_dict = dict.fromkeys(P_over_eps2_dict.keys(), 1.)\n",
    "\n",
    "for key in P_over_eps2_dict:\n",
    "    \n",
    "    P_over_eps2_dict[key] = np.zeros_like(m_Ap_ary)\n",
    "\n",
    "for key in ['analytic_fid', 'lognormal_low_fid', 'lognormal_b_1_5_low', 'gaussian_low']:\n",
    "    \n",
    "    one_plus_delta_dict[key] = 1e2\n",
    "\n",
    "for key in ['analytic_delt_1', 'lognormal_low_delt_1']:\n",
    "    \n",
    "    one_plus_delta_dict[key] = 1e1\n",
    "    \n",
    "for key in ['analytic_delt_3', 'lognormal_low_delt_3']:\n",
    "    \n",
    "    one_plus_delta_dict[key] = 1e3\n",
    "    \n",
    "for key in ['analytic_delt_4', 'lognormal_low_delt_4']:\n",
    "    \n",
    "    one_plus_delta_dict[key] = 1e4\n",
    "    \n",
    "for key in ['gaussian_low', 'voids', 'lognormal_low_no_delt']:\n",
    "\n",
    "    one_plus_delta_dict[key] = None\n",
    "    \n",
    "for key in ['analytic_fid', 'analytic_delt_1', 'analytic_delt_3', 'analytic_delt_4']:\n",
    "    \n",
    "    pdf_dict[key] = log_analytic_pdf_interp\n",
    "    \n",
    "for key in [\n",
    "    'lognormal_low_fid', 'lognormal_low_delt_1', 'lognormal_low_delt_3', \n",
    "    'lognormal_low_delt_4', 'lognormal_b_1_5_low', 'lognormal_low_no_delt']:\n",
    "    \n",
    "    pdf_dict[key] = 'lognormal'\n",
    "    \n",
    "pdf_dict['voids'] = 'voids'\n",
    "pdf_dict['gaussian_low'] = 'gaussian'\n",
    "\n",
    "b_dict['lognormal_b_1_5_low'] = 1.5\n",
    "\n",
    "for i,m_Ap in enumerate(tqdm_notebook(m_Ap_ary)):\n",
    "    \n",
    "    for key in P_over_eps2_dict:\n",
    "        \n",
    "        if key != 'lognormal_b_1_5_low':\n",
    "        \n",
    "            P_over_eps2_dict[key][i] = np.array(\n",
    "                firas_nonlin_baryon_low.P_tot_perturb(\n",
    "                    omega=[m_Ap * eV], eps=1., m_Ap=m_Ap * eV,\n",
    "                    pdf=pdf_dict[key], \n",
    "                    z_int = [2, 6], b = b_dict[key],\n",
    "                    one_plus_delta_bound=one_plus_delta_dict[key], Ap_DM=True, \n",
    "                    eng_weight=True, n_z_bins=1000\n",
    "                )[2]\n",
    "            )[0]\n",
    "            \n",
    "        else:\n",
    "            \n",
    "            P_over_eps2_dict[key][i] = np.array(\n",
    "                firas_nonlin.P_tot_perturb(\n",
    "                    omega=[m_Ap * eV], eps=1., m_Ap=m_Ap * eV,\n",
    "                    pdf=pdf_dict[key], \n",
    "                    z_int = [2, 6], b = b_dict[key],\n",
    "                    one_plus_delta_bound=one_plus_delta_dict[key], Ap_DM=True, \n",
    "                    eng_weight=True, n_z_bins=1000\n",
    "                )[2]\n",
    "            )[0]\n"
   ]
  },
  {
   "cell_type": "code",
   "execution_count": 10,
   "metadata": {},
   "outputs": [
    {
     "name": "stderr",
     "output_type": "stream",
     "text": [
      "/Users/smsharma/anaconda3/lib/python3.7/site-packages/ipykernel_launcher.py:3: RuntimeWarning: divide by zero encountered in true_divide\n",
      "  This is separate from the ipykernel package so we can avoid doing imports until\n"
     ]
    }
   ],
   "source": [
    "for key in eps_max_dict:\n",
    "    \n",
    "    eps_max_dict[key] = np.sqrt(1.*eV/(P_over_eps2_dict[key]  * energy_per_baryon))\n",
    "    eps_max_dict[key][eps_max_dict[key] > 1.] = 2.\n"
   ]
  },
  {
   "cell_type": "markdown",
   "metadata": {},
   "source": [
    "## Load existing experimental limits"
   ]
  },
  {
   "cell_type": "code",
   "execution_count": 11,
   "metadata": {},
   "outputs": [],
   "source": [
    "delta_rho_cdm_limit   = np.loadtxt('../data/existing_constraints/delta_rho_cdm.csv', delimiter=',')\n",
    "He_nonres_limit       = np.loadtxt('../data/existing_constraints/He_nonres.csv', delimiter=',')\n",
    "mu_y_distortion_limit = np.loadtxt('../data/existing_constraints/mu_y_distortion.csv', delimiter=',')\n",
    "DM_Radio_limit        = np.loadtxt('../data/existing_constraints/DM_Radio.csv', delimiter=',')\n",
    "dark_ages_limit       = np.loadtxt('../data/existing_constraints/dark_ages_resonant_conv.csv', delimiter=',')\n",
    "\n",
    "\n",
    "delta_rho_cdm_interp   = interp1d(delta_rho_cdm_limit[:,0],   delta_rho_cdm_limit[:,1],   bounds_error=False, fill_value=2.)\n",
    "He_nonres_interp       = interp1d(He_nonres_limit[:,0],       He_nonres_limit[:,1],       bounds_error=False, fill_value=2.)\n",
    "mu_y_distortion_interp = interp1d(mu_y_distortion_limit[:,0], mu_y_distortion_limit[:,1], bounds_error=False, fill_value=2.)\n",
    "dark_ages_interp       = interp1d(dark_ages_limit[:,0],       dark_ages_limit[:,1],       bounds_error=False, fill_value=2.)\n",
    "\n",
    "\n",
    "def existing_DP_DM_limits(m_Ap):\n",
    "    \n",
    "    lim_He_nonres       = He_nonres_interp(m_Ap)\n",
    "    lim_mu_y_distortion = mu_y_distortion_interp(m_Ap)\n",
    "    \n",
    "    return np.minimum.reduce([lim_He_nonres, lim_mu_y_distortion])\n",
    "\n",
    "def homo_DP_DM_limits(m_Ap):\n",
    "    \n",
    "    lim_dark_ages       = dark_ages_interp(m_Ap)\n",
    "    lim_delta_rho_cdm   = delta_rho_cdm_interp(m_Ap)\n",
    "    \n",
    "    return np.minimum.reduce([lim_dark_ages, lim_delta_rho_cdm])\n"
   ]
  },
  {
   "cell_type": "markdown",
   "metadata": {},
   "source": [
    "## Different PDFs"
   ]
  },
  {
   "cell_type": "code",
   "execution_count": 13,
   "metadata": {},
   "outputs": [
    {
     "data": {
      "image/png": "[encoded data removed]",
      "text/plain": [
       "<Figure size 443.077x360 with 1 Axes>"
      ]
     },
     "metadata": {
      "needs_background": "light"
     },
     "output_type": "display_data"
    }
   ],
   "source": [
    "fig_pdfs, ax=plt.subplots(figsize=(8 / 1.3, 6.5 / 1.3))\n",
    "\n",
    "plt.loglog()\n",
    "\n",
    "plt.plot(\n",
    "    np.concatenate(([m_Ap_homo_ary[0]], m_Ap_homo_ary, [m_Ap_homo_ary[-1]])), \n",
    "    np.concatenate(([0], P_over_eps2_homo_ary,[0])) * energy_per_baryon, \n",
    "    color='gray', linestyle=':', label='Homogeneous'\n",
    ")\n",
    "\n",
    "plt.gca().set_prop_cycle(None)\n",
    "\n",
    "colors_seq = sns.cubehelix_palette(4, start=1, rot=0) \n",
    "\n",
    "plt.plot(m_Ap_ary, P_over_eps2_dict['lognormal_low_no_delt'] * energy_per_baryon, linestyle='--', label=r'Log-normal')\n",
    "\n",
    "plt.gca().set_prop_cycle(None)\n",
    "\n",
    "colors_seq = sns.cubehelix_palette(4, start=0, rot=0) \n",
    "\n",
    "plt.plot(m_Ap_ary, P_over_eps2_dict['lognormal_low_fid'] * energy_per_baryon,    label=r'+ $10^{-2} < 1 + \\delta < 10^2$ (fiducial)')\n",
    "plt.plot(m_Ap_ary, P_over_eps2_dict['lognormal_b_1_5_low'] * energy_per_baryon,  label=r'+ $b = 1.5$')\n",
    "plt.plot(m_Ap_ary, P_over_eps2_dict['analytic_fid'] * energy_per_baryon,         label=r'Analytic')\n",
    "plt.plot(m_Ap_ary, P_over_eps2_dict['voids'] * energy_per_baryon,                label=r'Voids')\n",
    "plt.plot(m_Ap_ary, P_over_eps2_dict['gaussian_low'] * energy_per_baryon, ls=':', label=r'Gaussian')\n",
    "\n",
    "# plt.text(\n",
    "#     0.95, 0.91, r'$\\Omega_{A^\\prime} = \\Omega_{\\mathrm{DM}}$', \n",
    "#     horizontalalignment='right', transform=ax.transAxes,\n",
    "#     fontsize=14\n",
    "# )\n",
    "\n",
    "leg1 = ax.legend(ncol=1, fontsize=14, loc='upper left', handlelength=1.3)\n",
    "\n",
    "plt.title(r'\\textbf{DM} $A^\\prime \\to \\gamma$ \\textbf{deposited energy per baryon}')\n",
    "\n",
    "plt.xlabel(r'$m_{A^\\prime}$ [eV]')\n",
    "plt.ylabel(r'$\\langle E_{A^\\prime \\to \\gamma} \\rangle / \\epsilon^2 \\times \\Omega_\\mathrm{DM} / \\Omega_{A^\\prime}$ [eV]')\n",
    "\n",
    "plt.axis([1e-15, 1e-11, 5e17, 5e30])\n",
    "\n",
    "# Tick tweaks \n",
    "\n",
    "from matplotlib import ticker\n",
    "\n",
    "locmaj = ticker.LogLocator(base=10,numticks=12) \n",
    "ax.xaxis.set_major_locator(locmaj)\n",
    "\n",
    "locmin = ticker.LogLocator(base=10.0,subs=(0.2,0.4,0.6,0.8),numticks=12)\n",
    "ax.xaxis.set_minor_locator(locmin)\n",
    "ax.xaxis.set_minor_formatter(ticker.NullFormatter())\n",
    "\n",
    "locmaj = ticker.LogLocator(base=10,numticks=12) \n",
    "ax.yaxis.set_major_locator(locmaj)\n",
    "ax.yaxis.set_major_formatter(\n",
    "            ticker.FixedFormatter([\n",
    "               '', '', r'$10^{18}$', '', r'$10^{20}$', '', r'$10^{22}$', \n",
    "                '', r'$10^{24}$',  '', r'$10^{26}$' , '', r'$10^{28}$'\n",
    "            ])\n",
    "        )\n",
    "\n",
    "locmin = ticker.LogLocator(base=10.0,subs=(0.2,0.4,0.6,0.8),numticks=12)\n",
    "ax.yaxis.set_minor_locator(locmin)\n",
    "ax.yaxis.set_minor_formatter(ticker.NullFormatter())\n",
    "\n",
    "plt.tight_layout()\n",
    "\n",
    "plt.savefig('../paper/draft-formalism/plots/energy_per_baryon.pdf')"
   ]
  },
  {
   "cell_type": "code",
   "execution_count": 15,
   "metadata": {},
   "outputs": [
    {
     "data": {
      "image/png": "[encoded data removed]",
      "text/plain": [
       "<Figure size 443.077x360 with 1 Axes>"
      ]
     },
     "metadata": {
      "needs_background": "light"
     },
     "output_type": "display_data"
    }
   ],
   "source": [
    "fig_one_plus_delta, ax=plt.subplots(figsize=(8 / 1.3, 6.5 / 1.3))\n",
    "\n",
    "plt.loglog()\n",
    "\n",
    "plt.gca().set_prop_cycle(None)\n",
    "\n",
    "colors_seq = sns.color_palette('Blues', n_colors=4) \n",
    "colors_alt_seq = sns.color_palette('Reds', n_colors=4)\n",
    "\n",
    "plt.plot(m_Ap_ary, P_over_eps2_dict['lognormal_low_delt_1'] * energy_per_baryon, color=colors_seq[0], label=r'$10^{-1} < 1+\\delta < 10$')\n",
    "plt.plot(m_Ap_ary, P_over_eps2_dict['lognormal_low_fid'] * energy_per_baryon,    color=colors_seq[1], label=r'$10^{-2} < 1+\\delta < 10^2$')\n",
    "plt.plot(m_Ap_ary, P_over_eps2_dict['lognormal_low_delt_3'] * energy_per_baryon, color=colors_seq[2], label=r'$10^{-3} < 1+\\delta < 10^3$')\n",
    "plt.plot(m_Ap_ary, P_over_eps2_dict['lognormal_low_delt_4'] * energy_per_baryon, color=colors_seq[3], label=r'$10^{-4} < 1+\\delta < 10^4$')\n",
    "\n",
    "plt.plot(m_Ap_ary, P_over_eps2_dict['analytic_delt_1'] * energy_per_baryon, color=colors_alt_seq[0], ls='--')\n",
    "plt.plot(m_Ap_ary, P_over_eps2_dict['analytic_fid'] * energy_per_baryon,    color=colors_alt_seq[1], ls='--')\n",
    "plt.plot(m_Ap_ary, P_over_eps2_dict['analytic_delt_3'] * energy_per_baryon, color=colors_alt_seq[2], ls='--')\n",
    "plt.plot(m_Ap_ary, P_over_eps2_dict['analytic_delt_4'] * energy_per_baryon, color=colors_alt_seq[3], ls='--')\n",
    "\n",
    "leg1 = ax.legend(\n",
    "    ncol=1, fontsize=14, loc='lower left', handlelength=1.3,\n",
    "    bbox_to_anchor=[0.0, 0.37]\n",
    ")\n",
    "\n",
    "plt.plot(\n",
    "    np.concatenate(([m_Ap_homo_ary[0]], m_Ap_homo_ary, [m_Ap_homo_ary[-1]])), \n",
    "    np.concatenate(([0], P_over_eps2_homo_ary,[0])) * energy_per_baryon, \n",
    "    color='gray', linestyle=':', label='Homogeneous'\n",
    ")\n",
    "\n",
    "from matplotlib.lines import Line2D\n",
    "\n",
    "legend_lines = [\n",
    "    Line2D([0], [0], color='gray', linestyle=':'), \n",
    "    Line2D([0], [0], color=colors_seq[3]), \n",
    "    Line2D([0], [0], color=colors_alt_seq[3], ls='--')\n",
    "]\n",
    "\n",
    "leg2 = ax.legend(\n",
    "    legend_lines, \n",
    "    ['Homogeneous', 'Log-normal', 'Analytic'], \n",
    "    fontsize=14, \n",
    "    handlelength=1.3,\n",
    "    bbox_to_anchor=[0.0, 0.85],\n",
    "    loc='center left'\n",
    ")\n",
    "\n",
    "ax.add_artist(leg1)\n",
    "\n",
    "plt.xlabel(r'$m_{A^\\prime}$ [eV]')\n",
    "plt.ylabel(r'$\\langle E_{A^\\prime \\to \\gamma} \\rangle / \\epsilon^2 \\times \\Omega_\\mathrm{DM} / \\Omega_{A^\\prime}$ [eV]')\n",
    "\n",
    "plt.axis([1e-16, 1e-10, 5e21, 5e30])\n",
    "\n",
    "plt.title(r'\\textbf{DM} $A^\\prime \\to \\gamma$ \\textbf{dependence on PDF tails}')\n",
    "\n",
    "# Tick tweaks \n",
    "\n",
    "from matplotlib import ticker\n",
    "\n",
    "locmaj = ticker.LogLocator(base=10,numticks=12) \n",
    "ax.xaxis.set_major_locator(locmaj)\n",
    "\n",
    "locmin = ticker.LogLocator(base=10.0,subs=(0.2,0.4,0.6,0.8),numticks=12)\n",
    "ax.xaxis.set_minor_locator(locmin)\n",
    "ax.xaxis.set_minor_formatter(ticker.NullFormatter())\n",
    "\n",
    "locmaj = ticker.LogLocator(base=10,numticks=12) \n",
    "ax.yaxis.set_major_locator(locmaj)\n",
    "# ax.yaxis.set_major_formatter(\n",
    "#             ticker.FixedFormatter([\n",
    "#                '', '', r'$10^{18}$', '', r'$10^{20}$', '', r'$10^{22}$', \n",
    "#                 '', r'$10^{24}$',  '', r'$10^{26}$' , '', r'$10^{28}$'\n",
    "#             ])\n",
    "#         )\n",
    "\n",
    "locmin = ticker.LogLocator(base=10.0,subs=(0.2,0.4,0.6,0.8),numticks=12)\n",
    "ax.yaxis.set_minor_locator(locmin)\n",
    "ax.yaxis.set_minor_formatter(ticker.NullFormatter())\n",
    "\n",
    "plt.tight_layout()\n",
    "\n",
    "plt.savefig('../paper/draft-formalism/plots/energy_per_baryon_delta_var.pdf')"
   ]
  },
  {
   "cell_type": "code",
   "execution_count": null,
   "metadata": {},
   "outputs": [],
   "source": []
  }
 ],
 "metadata": {
  "kernelspec": {
   "display_name": "Python 3",
   "language": "python",
   "name": "python3"
  },
  "language_info": {
   "codemirror_mode": {
    "name": "ipython",
    "version": 3
   },
   "file_extension": ".py",
   "mimetype": "text/x-python",
   "name": "python",
   "nbconvert_exporter": "python",
   "pygments_lexer": "ipython3",
   "version": "3.7.3"
  },
  "toc": {
   "base_numbering": 1,
   "nav_menu": {},
   "number_sections": true,
   "sideBar": true,
   "skip_h1_title": false,
   "title_cell": "Table of Contents",
   "title_sidebar": "Contents",
   "toc_cell": false,
   "toc_position": {},
   "toc_section_display": true,
   "toc_window_display": false
  }
 },
 "nbformat": 4,
 "nbformat_minor": 4
}
