{
 "cells": [
  {
   "cell_type": "code",
   "execution_count": 2,
   "metadata": {},
   "outputs": [
    {
     "name": "stderr",
     "output_type": "stream",
     "text": [
      "/Users/smsharma/.conda/envs/Lensing-PowerSpectra/lib/python3.6/site-packages/nbodykit/extern/docrep.py:412: MatplotlibDeprecationWarning: \n",
      "The dedent function was deprecated in Matplotlib 3.1 and will be removed in 3.3. Use inspect.cleandoc instead.\n",
      "  s = dedents(s)\n",
      "/Users/smsharma/.conda/envs/Lensing-PowerSpectra/lib/python3.6/site-packages/nbodykit/extern/docrep.py:341: MatplotlibDeprecationWarning: \n",
      "The dedent function was deprecated in Matplotlib 3.1 and will be removed in 3.3. Use inspect.cleandoc instead.\n",
      "  s = dedents('\\n' + '\\n'.join(lines[first:]))\n"
     ]
    }
   ],
   "source": [
    "import sys\n",
    "import urllib.request\n",
    "sys.path.append(\"../../Lensing-PowerSpectra/theory/\")\n",
    "sys.path.append(\"../\")\n",
    "\n",
    "import numpy as np\n",
    "import matplotlib.pyplot as plt\n",
    "import matplotlib as mpl\n",
    "import pandas as pd\n",
    "from scipy.interpolate import interp1d\n",
    "from scipy.stats import chi2\n",
    "from scipy.optimize import minimize\n",
    "import scipy.linalg as la\n",
    "from astropy.io import fits\n",
    "\n",
    "from grf.grf import Spectra\n",
    "from units import *\n",
    "from tqdm import *\n",
    "\n",
    "%matplotlib inline\n",
    "%load_ext autoreload\n",
    "%autoreload 2"
   ]
  },
  {
   "cell_type": "code",
   "execution_count": 2,
   "metadata": {},
   "outputs": [],
   "source": [
    "import matplotlib.pylab as pylab\n",
    "from cycler import cycler\n",
    "import palettable\n",
    "\n",
    "params = {'text.usetex': True,\n",
    "          'font.family': 'serif',\n",
    "          'font.serif': ['CMU Serif'],\n",
    "          'font.sans-serif': ['CMU Sans Serif'],\n",
    "          'legend.fontsize': 17,\n",
    "          'legend.fancybox': True,\n",
    "          'legend.frameon': False,\n",
    "          'legend.framealpha': 0.4,\n",
    "          'legend.labelspacing': 0.5,\n",
    "          'figure.figsize': (6.4/1.1, 4.8/1.1),\n",
    "          'axes.labelsize': 19,\n",
    "          'axes.titlesize':18,\n",
    "          'axes.titlepad':10,\n",
    "          'axes.linewidth':1.1,\n",
    "          'axes.labelpad':10,\n",
    "          'axes.prop_cycle': cycler('color', palettable.cartocolors.qualitative.Bold_10.hex_colors) + \n",
    "                            cycler(alpha=10*[.7]), \n",
    "          'lines.linewidth':2.5,\n",
    "          'xtick.labelsize':18,\n",
    "          'ytick.labelsize':18,\n",
    "          'xtick.top':True,\n",
    "          'ytick.right':True,\n",
    "          'xtick.direction': 'in',\n",
    "          'ytick.direction': 'in',\n",
    "          'xtick.major.size': 5,\n",
    "          'xtick.minor.size': 2,\n",
    "          'ytick.major.size': 5,\n",
    "          'ytick.minor.size': 2,\n",
    "          'xtick.major.width': 1,\n",
    "          'ytick.major.width': 1,\n",
    "          'xtick.minor.width': 0.8,\n",
    "          'ytick.minor.width': 0.8,\n",
    "         }\n",
    "pylab.rcParams.update(params)\n",
    "\n",
    "from IPython.display import set_matplotlib_formats\n",
    "set_matplotlib_formats('retina')"
   ]
  },
  {
   "cell_type": "code",
   "execution_count": 3,
   "metadata": {},
   "outputs": [],
   "source": [
    "spec = Spectra()"
   ]
  },
  {
   "cell_type": "markdown",
   "metadata": {},
   "source": [
    "## COBE/FIRAS constraints"
   ]
  },
  {
   "cell_type": "markdown",
   "metadata": {},
   "source": [
    "### Download spectrum and covariances files"
   ]
  },
  {
   "cell_type": "code",
   "execution_count": 4,
   "metadata": {},
   "outputs": [
    {
     "data": {
      "text/plain": [
       "('../data/FIRAS_COVARIANCE_MATRIX_LOWF.FITS',\n",
       " <http.client.HTTPMessage at 0x1a2a8a7320>)"
      ]
     },
     "execution_count": 4,
     "metadata": {},
     "output_type": "execute_result"
    }
   ],
   "source": [
    "url_spec = 'https://lambda.gsfc.nasa.gov/data/cobe/firas/monopole_spec/firas_monopole_spec_v1.txt' \n",
    "url_cov = 'https://lambda.gsfc.nasa.gov/data/cobe/firas/covar_matrix/FIRAS_COVARIANCE_MATRIX_LOWF.FITS'\n",
    "\n",
    "urllib.request.urlretrieve(url_spec, '../data/firas_monopole_spec_v1.txt')  \n",
    "urllib.request.urlretrieve(url_cov, '../data/FIRAS_COVARIANCE_MATRIX_LOWF.FITS')  "
   ]
  },
  {
   "cell_type": "code",
   "execution_count": 513,
   "metadata": {},
   "outputs": [
    {
     "name": "stderr",
     "output_type": "stream",
     "text": [
      "/Users/smsharma/.conda/envs/Lensing-PowerSpectra/lib/python3.6/site-packages/ipykernel_launcher.py:3: FutureWarning: read_table is deprecated, use read_csv instead.\n",
      "  This is separate from the ipykernel package so we can avoid doing imports until\n"
     ]
    },
    {
     "data": {
      "text/html": [
       "<div>\n",
       "<style scoped>\n",
       "    .dataframe tbody tr th:only-of-type {\n",
       "        vertical-align: middle;\n",
       "    }\n",
       "\n",
       "    .dataframe tbody tr th {\n",
       "        vertical-align: top;\n",
       "    }\n",
       "\n",
       "    .dataframe thead th {\n",
       "        text-align: right;\n",
       "    }\n",
       "</style>\n",
       "<table border=\"1\" class=\"dataframe\">\n",
       "  <thead>\n",
       "    <tr style=\"text-align: right;\">\n",
       "      <th></th>\n",
       "      <th>freq</th>\n",
       "      <th>I</th>\n",
       "      <th>residual</th>\n",
       "      <th>uncert</th>\n",
       "      <th>poles</th>\n",
       "    </tr>\n",
       "  </thead>\n",
       "  <tbody>\n",
       "    <tr>\n",
       "      <th>0</th>\n",
       "      <td>2.27</td>\n",
       "      <td>200.723</td>\n",
       "      <td>5</td>\n",
       "      <td>14</td>\n",
       "      <td>4</td>\n",
       "    </tr>\n",
       "    <tr>\n",
       "      <th>1</th>\n",
       "      <td>2.72</td>\n",
       "      <td>249.508</td>\n",
       "      <td>9</td>\n",
       "      <td>19</td>\n",
       "      <td>3</td>\n",
       "    </tr>\n",
       "    <tr>\n",
       "      <th>2</th>\n",
       "      <td>3.18</td>\n",
       "      <td>293.024</td>\n",
       "      <td>15</td>\n",
       "      <td>25</td>\n",
       "      <td>-1</td>\n",
       "    </tr>\n",
       "    <tr>\n",
       "      <th>3</th>\n",
       "      <td>3.63</td>\n",
       "      <td>327.770</td>\n",
       "      <td>4</td>\n",
       "      <td>23</td>\n",
       "      <td>-1</td>\n",
       "    </tr>\n",
       "    <tr>\n",
       "      <th>4</th>\n",
       "      <td>4.08</td>\n",
       "      <td>354.081</td>\n",
       "      <td>19</td>\n",
       "      <td>22</td>\n",
       "      <td>3</td>\n",
       "    </tr>\n",
       "  </tbody>\n",
       "</table>\n",
       "</div>"
      ],
      "text/plain": [
       "   freq        I  residual  uncert  poles\n",
       "0  2.27  200.723         5      14      4\n",
       "1  2.72  249.508         9      19      3\n",
       "2  3.18  293.024        15      25     -1\n",
       "3  3.63  327.770         4      23     -1\n",
       "4  4.08  354.081        19      22      3"
      ]
     },
     "execution_count": 513,
     "metadata": {},
     "output_type": "execute_result"
    }
   ],
   "source": [
    "df = pd.read_table('../data/firas_monopole_spec_v1.txt', \n",
    "    skiprows=18, sep='\\s+', header=None, \n",
    "    names =['freq', 'I', 'residual', 'uncert', 'poles'])\n",
    "df.head()"
   ]
  },
  {
   "cell_type": "code",
   "execution_count": 514,
   "metadata": {},
   "outputs": [],
   "source": [
    "omega_FIRAS = 2 * np.pi * df['freq'].values * Centimeter ** -1\n",
    "d = df['I'].values\n",
    "unc = df['uncert'].values * 1e-3\n",
    "\n",
    "Jy = 1e-23 * erg / Sec / Centimeter ** 2 / Sec ** -1"
   ]
  },
  {
   "cell_type": "code",
   "execution_count": 515,
   "metadata": {},
   "outputs": [],
   "source": [
    "# Open covariance FITS file\n",
    "Cov_FIRAS_fits = fits.open(\"../data/FIRAS_COVARIANCE_MATRIX_LOWF.FITS\")[1].data\n",
    "\n",
    "# Populate covariance matrix\n",
    "Cov = np.zeros((len(df), len(df)))\n",
    "for i1 in range(len(df)):\n",
    "    for i2 in range(len(df)):\n",
    "        Cov[i1, i2] = Cov_FIRAS_fits[i1][1][:43][i2] / 400. "
   ]
  },
  {
   "cell_type": "code",
   "execution_count": 516,
   "metadata": {},
   "outputs": [
    {
     "name": "stdout",
     "output_type": "stream",
     "text": [
      "0.013879919922881793\n",
      "0.014\n"
     ]
    }
   ],
   "source": [
    "# Compare with noise given in first row of Table 4 of Fixsen et al (astro-ph/9605054)\n",
    "# They are not consistent---not sure what's going on. \n",
    "# UPDATE: Looks like ones from website are wrong. \n",
    "# Rescaled them by factor of 400. Email someone to make sure this is okay.\n",
    "i_freq = 0\n",
    "print(np.sqrt(Cov[i_freq, i_freq]))\n",
    "print(df['uncert'][i_freq] * 1e-3) "
   ]
  },
  {
   "cell_type": "code",
   "execution_count": 517,
   "metadata": {},
   "outputs": [],
   "source": [
    "Cinv = la.inv(Cov)\n",
    "detC = la.det(Cov)"
   ]
  },
  {
   "cell_type": "markdown",
   "metadata": {},
   "source": [
    "### Write down $\\chi^2$ for FIRAS data describing CMB blackbody spectrum"
   ]
  },
  {
   "cell_type": "code",
   "execution_count": 541,
   "metadata": {},
   "outputs": [],
   "source": [
    "def chi2_CMB(d, t, Cinv):\n",
    "    return (np.dot((d - t), np.matmul(Cinv, (d - t))))\n",
    "\n",
    "def chi2_CMB_test(d, t, Cinv):\n",
    "    return np.sum(((d - t) / unc) ** 2), (np.dot((d - t), np.matmul(Cinv, (d - t))))\n",
    "\n",
    "def chi2_FIRAS(x, eps, P_tot):\n",
    "    T_0 = x[0]\n",
    "    t = spec.B_CMB(omega_FIRAS, T_0) * (1 - P_tot * (eps / eps_base) ** 2) / (1e6 * Jy)\n",
    "    return chi2_CMB(d, t, Cinv)"
   ]
  },
  {
   "cell_type": "code",
   "execution_count": 692,
   "metadata": {},
   "outputs": [
    {
     "name": "stdout",
     "output_type": "stream",
     "text": [
      "4.47 s ± 175 ms per loop (mean ± std. dev. of 7 runs, 1 loop each)\n"
     ]
    }
   ],
   "source": [
    "m_A = 1e-11 * eV\n",
    "eps_base = 4e-5\n",
    "P_tot = np.array([np.sum(spec.P_tot(omega, eps_base, m_A)[1]) for omega in omega_FIRAS])\n",
    "chi2_null = minimize(chi2_FIRAS,x0=[2.725],args=(0, P_tot), method='SLSQP').fun"
   ]
  },
  {
   "cell_type": "markdown",
   "metadata": {},
   "source": [
    "$\\chi^2/\\mathrm{ndof}$ for CMB as blackbody. One free parameter (CMB temperature)."
   ]
  },
  {
   "cell_type": "code",
   "execution_count": 676,
   "metadata": {},
   "outputs": [],
   "source": [
    "ndof = len(d) - 1"
   ]
  },
  {
   "cell_type": "code",
   "execution_count": 677,
   "metadata": {},
   "outputs": [
    {
     "name": "stdout",
     "output_type": "stream",
     "text": [
      "chi2 is 72.19515480562546\n",
      "chi2 / ndof is 1.7189322572767967\n"
     ]
    }
   ],
   "source": [
    "print('chi2 is', chi2_null)\n",
    "print('chi2 / ndof is', chi2_null / ndof)"
   ]
  },
  {
   "cell_type": "markdown",
   "metadata": {},
   "source": [
    "What is $\\chi^2$ for 95\\% exclusion? "
   ]
  },
  {
   "cell_type": "code",
   "execution_count": 678,
   "metadata": {},
   "outputs": [
    {
     "data": {
      "text/plain": [
       "58.12403768086803"
      ]
     },
     "execution_count": 678,
     "metadata": {},
     "output_type": "execute_result"
    }
   ],
   "source": [
    "chi2.ppf(q=0.95, df=ndof)"
   ]
  },
  {
   "cell_type": "markdown",
   "metadata": {},
   "source": [
    "Hence, CMB as blackbody is excluded at at least 95% CI."
   ]
  },
  {
   "cell_type": "markdown",
   "metadata": {},
   "source": [
    "### Dark photon parameter scan"
   ]
  },
  {
   "cell_type": "code",
   "execution_count": 4,
   "metadata": {},
   "outputs": [],
   "source": [
    "eps_base = 1e-14\n",
    "m_A_ary = np.logspace(-14.5, -9, 200) * eV\n",
    "eps_ary = np.logspace(-7,-4, 200)\n",
    "delta_chi2_ary = np.zeros((len(m_A_ary), len(eps_ary)))\n",
    "\n",
    "for i_m_A, m_A in enumerate(tqdm(m_A_ary)):\n",
    "    P_tot = np.array([np.sum(spec.P_tot(omega, eps_base, m_A)[1]) for omega in omega_FIRAS])\n",
    "    \n",
    "    for i_eps, eps in enumerate(eps_ary):\n",
    "        chi2_min = minimize(chi2_FIRAS,x0=[2.725],args=(eps, P_tot), method='Powell')\n",
    "        delta_chi2_ary[i_m_A, i_eps] = chi2_min.fun - chi2_null"
   ]
  },
  {
   "cell_type": "code",
   "execution_count": 684,
   "metadata": {},
   "outputs": [],
   "source": [
    "# Find the critical value for 95% confidence and our corresponding dof (two extra dark photon parameters) for two-sided and one-sided chi2\n",
    "\n",
    "from scipy.optimize import fsolve\n",
    "delta_chi2_95_level_one_sided = fsolve(lambda crit: (1. - chi2.cdf(crit, df=2.)) / 2. - 0.05, x0=[3.])[0]\n",
    "delta_chi2_95_level = chi2.ppf(q=0.95, df=2)"
   ]
  },
  {
   "cell_type": "code",
   "execution_count": 693,
   "metadata": {},
   "outputs": [
    {
     "data": {
      "image/png": "[encoded data removed]",
      "text/plain": [
       "<Figure size 504x396 with 1 Axes>"
      ]
     },
     "metadata": {
      "image/png": {
       "height": 388,
       "width": 496
      },
      "needs_background": "light"
     },
     "output_type": "display_data"
    }
   ],
   "source": [
    "mpl.rcParams['figure.figsize'] = 7, 5.5\n",
    "\n",
    "delta_chi2_ary_trans = np.transpose(delta_chi2_ary)\n",
    "\n",
    "levels = [delta_chi2_95_level_one_sided]\n",
    "\n",
    "X, Y = np.meshgrid(m_A_ary / eV, eps_ary)\n",
    "\n",
    "fig, ax = plt.subplots()\n",
    "\n",
    "CS = ax.contour(X, Y, delta_chi2_ary_trans, levels = levels, linestyles=['-','--'], colors='k', linewidths=2, alpha=0.7)\n",
    "\n",
    "ax.set_xlabel(r\"$m_{A^\\prime}$\")\n",
    "ax.set_ylabel(r\"$\\epsilon$\")\n",
    "ax.set_title(r'\\textbf{COBE/FIRAS $A^\\prime \\rightarrow A$}', fontsize=18)\n",
    "\n",
    "ax.set_xscale(\"log\")\n",
    "ax.set_yscale(\"log\")\n",
    "\n",
    "plt.tight_layout()"
   ]
  },
  {
   "cell_type": "code",
   "execution_count": 686,
   "metadata": {},
   "outputs": [],
   "source": [
    "np.savez('../data/FIRAS_bounds.npz', m_Ap=np.transpose(CS.allsegs[0][0])[0], eps_max=np.transpose(CS.allsegs[0][0])[1])"
   ]
  },
  {
   "cell_type": "markdown",
   "metadata": {},
   "source": [
    "Potential issues with previous bounds obtained in 0901.0014 and 1507.02614 (independent of updated cosmology):\n",
    "1. Don't take into account multiple transitions\n",
    "2. Don't take into account covariance matrix\n",
    "3. Use $\\chi^2$-statistics for nonlinear models\n",
    "4. Use $\\chi^2$-statistics for small sample ($N=43$)\n",
    "5. Use $\\chi^2$/ndof as test-statistic, then threshold on containment for $\\text{ndof}=1$\n",
    "6. Use absolute $\\chi^2$ rather than $\\Delta\\chi^2$\n",
    "7. Small-$\\epsilon$ approximation potentially not good in some regions of parameter space?"
   ]
  },
  {
   "cell_type": "code",
   "execution_count": null,
   "metadata": {},
   "outputs": [],
   "source": []
  }
 ],
 "metadata": {
  "kernelspec": {
   "display_name": "Python 3",
   "language": "python",
   "name": "python3"
  },
  "language_info": {
   "codemirror_mode": {
    "name": "ipython",
    "version": 3
   },
   "file_extension": ".py",
   "mimetype": "text/x-python",
   "name": "python",
   "nbconvert_exporter": "python",
   "pygments_lexer": "ipython3",
   "version": "3.6.7"
  }
 },
 "nbformat": 4,
 "nbformat_minor": 4
}
