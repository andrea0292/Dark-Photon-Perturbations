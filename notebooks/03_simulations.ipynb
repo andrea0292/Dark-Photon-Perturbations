{
 "cells": [
  {
   "cell_type": "code",
   "execution_count": 2,
   "metadata": {},
   "outputs": [
    {
     "name": "stderr",
     "output_type": "stream",
     "text": [
      "/Users/smsharma/anaconda3/lib/python3.7/site-packages/dask/config.py:168: YAMLLoadWarning: calling yaml.load() without Loader=... is deprecated, as the default Loader is unsafe. Please read https://msg.pyyaml.org/load for full details.\n",
      "  data = yaml.load(f.read()) or {}\n"
     ]
    }
   ],
   "source": [
    "import sys\n",
    "sys.path.append(\"../\")\n",
    "import urllib.request\n",
    "from glob import glob\n",
    "\n",
    "import matplotlib\n",
    "from matplotlib import gridspec\n",
    "import matplotlib.pyplot as plt\n",
    "import matplotlib.pylab as pylab\n",
    "from mpl_toolkits.axes_grid1 import make_axes_locatable\n",
    "import numpy as np\n",
    "from scipy.interpolate import interp1d, RectBivariateSpline\n",
    "from scipy.stats import binned_statistic\n",
    "import pandas as pd\n",
    "from tqdm import *\n",
    "from astropy.cosmology import z_at_value\n",
    "import astropy.units as u\n",
    "from feynman import Diagram\n",
    "\n",
    "from grf.units import *\n",
    "from grf.grf import TransitionProbabilities, PerturbedProbability, FIRAS\n",
    "from grf.simulations import GaussianRandomFieldBoxes\n",
    "from grf.pk_interp import PowerSpectrumGridInterpolator\n",
    "\n",
    "from IPython.display import set_matplotlib_formats\n",
    "set_matplotlib_formats('retina')\n",
    "\n",
    "%matplotlib inline\n",
    "%load_ext autoreload\n",
    "%autoreload 2"
   ]
  },
  {
   "cell_type": "markdown",
   "metadata": {},
   "source": [
    "# Gaussian random field simulations for $\\gamma \\rightarrow A'$ transitions"
   ]
  },
  {
   "cell_type": "code",
   "execution_count": 3,
   "metadata": {},
   "outputs": [
    {
     "name": "stderr",
     "output_type": "stream",
     "text": [
      "/Users/smsharma/anaconda3/lib/python3.7/site-packages/matplotlib/__init__.py:855: MatplotlibDeprecationWarning: \n",
      "examples.directory is deprecated; in the future, examples will be found relative to the 'datapath' directory.\n",
      "  \"found relative to the 'datapath' directory.\".format(key))\n",
      "/Users/smsharma/anaconda3/lib/python3.7/site-packages/matplotlib/__init__.py:846: MatplotlibDeprecationWarning: \n",
      "The text.latex.unicode rcparam was deprecated in Matplotlib 2.2 and will be removed in 3.1.\n",
      "  \"2.2\", name=key, obj_type=\"rcparam\", addendum=addendum)\n"
     ]
    }
   ],
   "source": [
    "# Plot parameters\n",
    "\n",
    "from plot_params import params\n",
    "pylab.rcParams.update(params)\n",
    "\n",
    "cols_default = plt.rcParams['axes.prop_cycle'].by_key()['color']"
   ]
  },
  {
   "cell_type": "code",
   "execution_count": 4,
   "metadata": {},
   "outputs": [],
   "source": [
    "# Where to save plots\n",
    "plots_dir = \"../paper/draft-letter/plots/\""
   ]
  },
  {
   "cell_type": "markdown",
   "metadata": {},
   "source": [
    "## Simulations plot (Fig. 1)"
   ]
  },
  {
   "cell_type": "code",
   "execution_count": null,
   "metadata": {},
   "outputs": [],
   "source": [
    "# Load a power spectrum\n",
    "pspec = PowerSpectrumGridInterpolator(\"nonlin_matter_bj\")"
   ]
  },
  {
   "cell_type": "code",
   "execution_count": null,
   "metadata": {},
   "outputs": [
    {
     "name": "stderr",
     "output_type": "stream",
     "text": [
      "/Users/smsharma/anaconda3/lib/python3.7/site-packages/ipykernel_launcher.py:17: TqdmDeprecationWarning: This function will be removed in tqdm==5.0.0\n",
      "Please use `tqdm.notebook.tqdm` instead of `tqdm.tqdm_notebook`\n"
     ]
    },
    {
     "data": {
      "application/vnd.jupyter.widget-view+json": {
       "model_id": "c787458593c8478c9b7e034719402fe2",
       "version_major": 2,
       "version_minor": 0
      },
      "text/plain": [
       "HBox(children=(IntProgress(value=0, max=1), HTML(value='')))"
      ]
     },
     "metadata": {},
     "output_type": "display_data"
    },
    {
     "data": {
      "application/vnd.jupyter.widget-view+json": {
       "model_id": "42e8e4060ef441f5b32b892bec807193",
       "version_major": 2,
       "version_minor": 0
      },
      "text/plain": [
       "HBox(children=(IntProgress(value=0, max=17), HTML(value='')))"
      ]
     },
     "metadata": {},
     "output_type": "display_data"
    },
    {
     "name": "stderr",
     "output_type": "stream",
     "text": [
      "/Users/smsharma/anaconda3/lib/python3.7/site-packages/nbodykit/filters.py:31: RuntimeWarning: invalid value encountered in true_divide\n",
      "  w = 3 * (numpy.sin(kr) / kr **3 - numpy.cos(kr) / kr ** 2)\n",
      "/Users/smsharma/anaconda3/lib/python3.7/site-packages/nbodykit/filters.py:31: RuntimeWarning: divide by zero encountered in true_divide\n",
      "  w = 3 * (numpy.sin(kr) / kr **3 - numpy.cos(kr) / kr ** 2)\n"
     ]
    }
   ],
   "source": [
    "# Create simulations\n",
    "\n",
    "## Simulation properties\n",
    "\n",
    "n_mc = 1\n",
    "z_fid = 100.\n",
    "z_range = [90.,110.]\n",
    "k_max = 300.\n",
    "n_points = 300\n",
    "i_seed = 42\n",
    "\n",
    "z_crossings_collect = []\n",
    "P_collect = []\n",
    "\n",
    "## Run simulations\n",
    "\n",
    "for i_mc in tqdm_notebook(range(n_mc)):\n",
    "    GRFB = GaussianRandomFieldBoxes(z_fid=z_fid, z_range=z_range, k_max=k_max, n_points=n_points, r_filter=1.5, log_pk_interp=pspec, run=False)\n",
    "    GRFB.get_box_properties()\n",
    "    GRFB.simulate_grf(seeds=np.arange(i_seed, i_seed + GRFB.n_boxes))\n",
    "    GRFB.calculate_transition_prob()\n",
    "    z_crossings_collect_temp = []\n",
    "    P_collect_temp = []\n",
    "    z_crossings_collect.append(GRFB.z_crossings_collect_temp)\n",
    "    P_collect.append(GRFB.P_collect_temp)\n",
    "    if GRFB.P_homo is not None:\n",
    "        P_homo = GRFB.P_homo\n",
    "    \n",
    "P_collect = np.array(P_collect)\n",
    "z_crossings_collect = np.array(z_crossings_collect)"
   ]
  },
  {
   "cell_type": "code",
   "execution_count": null,
   "metadata": {},
   "outputs": [],
   "source": [
    "# Interpolate simulations from different boxes onto common grid\n",
    "\n",
    "grid_new_list = []\n",
    "old_space_list = []\n",
    "\n",
    "for i in tqdm_notebook(range(len(GRFB.d_comoving_bins) - 1)):\n",
    "    old_space = np.linspace(GRFB.d_comoving_bins[i], GRFB.d_comoving_bins[i + 1], np.shape(GRFB.fields[i][0])[0])\n",
    "    old_space[0] += 1e-3 * np.random.rand(1)\n",
    "    old_space = np.array([z_at_value(GRFB.cosmo.comoving_distance, old * u.Mpc) for old in old_space])\n",
    "    old_space_list.append(old_space)\n",
    "    new_space = np.linspace(GRFB.d_comoving_bins[i], GRFB.d_comoving_bins[i + 1], np.shape(GRFB.fields[-1][0])[0])\n",
    "    new_space = np.array([z_at_value(GRFB.cosmo.comoving_distance, new * u.Mpc) for new in new_space])\n",
    "\n",
    "\n",
    "    grid_new = RectBivariateSpline(old_space, old_space, GRFB.fields[i][0,:,:])(new_space, old_space)\n",
    "\n",
    "    grid_new_list.append(grid_new)\n",
    "    \n",
    "old_space_all = (np.hstack(old_space_list))"
   ]
  },
  {
   "cell_type": "code",
   "execution_count": null,
   "metadata": {},
   "outputs": [],
   "source": [
    "# Calculate analytic dP/dz curve\n",
    "\n",
    "firas = FIRAS(pspec)\n",
    "z_ary, dP_dz_ary, _, _  = firas.P_tot_perturb([firas.omega_FIRAS[0]], 1., GRFB.m_A_fid, pdf=\"gaussian\", r_smooth=GRFB.filter_sizes[0], k_max=300, n_z_bins=10000)\n",
    "dP_dz_ary = dP_dz_ary[0]"
   ]
  },
  {
   "cell_type": "code",
   "execution_count": null,
   "metadata": {},
   "outputs": [],
   "source": [
    "GRFB.m_A_fid / eV"
   ]
  },
  {
   "cell_type": "code",
   "execution_count": null,
   "metadata": {},
   "outputs": [],
   "source": [
    "# Make plot!\n",
    "\n",
    "fig = plt.figure(figsize=(18, 6)) \n",
    "\n",
    "## Define gridspec\n",
    "gs = gridspec.GridSpec(3, 1, height_ratios=[1, 2.5, 1], hspace=0.1) \n",
    "\n",
    "## Top plot, 2D simulation projection\n",
    "\n",
    "ax0 = plt.subplot(gs[0])\n",
    "\n",
    "im = ax0.imshow((np.hstack(grid_new_list[:])),\n",
    "           cmap='twilight_shifted',\n",
    "           vmin=0 + 0.5,\n",
    "           vmax=2 - 0.5,\n",
    "           extent=[GRFB.z_bins[0], GRFB.z_bins[-1], 0, GRFB.d_comoving_bins[-1] - GRFB.d_comoving_bins[-2]],\n",
    "           aspect='auto',\n",
    "           origin='lower'\n",
    "          )\n",
    "\n",
    "ax0.text(108.2, 3.3, r\"$m_{\\gamma}/\\overline{m_{\\gamma}}$\", fontsize=23)\n",
    "\n",
    "## Feynman diagram\n",
    "\n",
    "axn = ax0.twinx()\n",
    "diagram = Diagram(axn)\n",
    "v1 = diagram.verticle(xy=(91., 0.5), marker='')\n",
    "v2 = diagram.verticle(xy=(108., 0.5), marker='')\n",
    "v3 = diagram.verticle(xy=(102., 0.5), marker='x', lw=0.8)\n",
    "\n",
    "nwiggles = 50\n",
    "wz1 = diagram.line(v1, v3, flavour='wiggly', nwiggles=int(nwiggles * 11 / 17))\n",
    "wz1.scale(.2)\n",
    "wz2 = diagram.line(v2, v3, style='wiggly', nwiggles=int(nwiggles * 6 / 17))\n",
    "wz2.scale(.2)\n",
    "wz1.text(\"$A^\\prime$\",fontsize=22, t=0.6, y=+0.1)\n",
    "wz2.text(\"$\\gamma$\",fontsize=22, t=0.4, y=-0.1)\n",
    "\n",
    "diagram.plot()\n",
    "\n",
    "divider = make_axes_locatable(ax0)\n",
    "cax = divider.append_axes('right', size='4%', pad=10)\n",
    "fig.colorbar(im, cax=cax, orientation='vertical')\n",
    "\n",
    "## Middle plot, 1D simulation profile\n",
    "\n",
    "ax1 = plt.subplot(gs[1])\n",
    "\n",
    "ax1.plot(GRFB.z_ary_new, np.array(GRFB.m_A_perturb_ary) / (1e-13 * eV), alpha=0.4, c=cols_default[0], lw=1., label=\"Inhomogeneous plasma mass $m_{\\gamma}$\")\n",
    "ax1.plot(GRFB.z_ary_new, np.sqrt(GRFB.m_A_sq_ary) / (1e-13 * eV), ls='--', lw=1.5, c=cols_default[0], label=\"Homogeneous plasma mass $\\overline{m_{\\gamma}}$\")\n",
    "\n",
    "ax1.plot()\n",
    "\n",
    "ax1.axhline(GRFB.m_A_fid / (1e-13 * eV), lw=1.5, c='lightgrey')\n",
    "\n",
    "ax1.text(90.6, 2.8, r\"$m_{A^\\prime} = 2.73\\times 10^{-13}$\\,eV\", fontsize=16)\n",
    "\n",
    "ax1.legend(fontsize=16, loc='lower right')\n",
    "\n",
    "## Bottom plot, analytic dP/dz and crossings in simulations\n",
    "\n",
    "ax2 = plt.subplot(gs[2])\n",
    "ax2.plot(z_ary, dP_dz_ary  / np.trapz(dP_dz_ary[(z_ary > 80) * (z_ary < 110)], z_ary[(z_ary > 80) * (z_ary < 110)]), lw=1.2, c=cols_default[1], label='Analytic crossing probability')\n",
    "ax2.fill_between(z_ary, np.zeros_like(z_ary), dP_dz_ary  / np.trapz(dP_dz_ary[(z_ary > 80) * (z_ary < 110)], z_ary[(z_ary > 80) * (z_ary < 110)]), alpha=0.1, color=cols_default[1])\n",
    "\n",
    "for z_cross in GRFB.z_crossings_collect_temp:\n",
    "    ax2.axvline(z_cross, lw=1, alpha=0.2, c=cols_default[0])\n",
    "ax2.plot([],[], lw=1, alpha=0.2, c=cols_default[0], label='Crossings in simulation')\n",
    "ax2.legend(fontsize=16, )\n",
    "\n",
    "## Set plot properties\n",
    "\n",
    "ax0.set_ylabel(\"$D_{\\mathrm c}$\\,[Mpc]\", labelpad=25)\n",
    "ax1.set_ylabel(\"$m_{\\gamma}\\,[10^{-13}\\,\\mathrm{eV]}$\")\n",
    "ax2.set_ylabel(r\"$\\mathrm d\\langle P_{\\gamma \\rightarrow A'} \\rangle / \\mathrm dz$\")\n",
    "ax2.set_xlabel(\"$z$\", fontsize=22)\n",
    "\n",
    "plt.suptitle(r\"\\bf{Perturbations in the photon plasma mass}\", y=0.95, fontsize=22)\n",
    "\n",
    "ax0.set_xlim(min(GRFB.z_ary_new), max(GRFB.z_ary_new))\n",
    "ax1.set_xlim(min(GRFB.z_ary_new), max(GRFB.z_ary_new))\n",
    "ax2.set_xlim(min(GRFB.z_ary_new), max(GRFB.z_ary_new))\n",
    "ax2.set_ylim(0, .2)\n",
    "\n",
    "plt.setp(ax0.get_xticklabels(), visible=False)\n",
    "plt.setp(ax1.get_xticklabels(), visible=False)\n",
    "\n",
    "loc_major = matplotlib.ticker.MultipleLocator(base=1.) # this locator puts ticks at regular intervals\n",
    "loc_minor = matplotlib.ticker.MultipleLocator(base=0.2) # this locator puts ticks at regular intervals\n",
    "ax1.xaxis.set_major_locator(loc_major)\n",
    "ax2.xaxis.set_major_locator(loc_major)\n",
    "ax2.xaxis.set_minor_locator(loc_minor)\n",
    "ax2.xaxis.set_minor_locator(loc_minor)\n",
    "\n",
    "ax2.set(xticks=np.arange(90, 110), xticklabels=[x if not x%2 else None for x in np.arange(90, 110)])\n",
    "\n",
    "plt.subplots_adjust(wspace=10)\n",
    "\n",
    "plt.tight_layout()\n",
    "\n",
    "## Save\n",
    "\n",
    "plt.savefig(plots_dir + \"perturbations.pdf\", bbox_inches='tight')\n",
    "plt.savefig(plots_dir + \"perturbations_web.png\", bbox_inches='tight')"
   ]
  },
  {
   "cell_type": "code",
   "execution_count": null,
   "metadata": {},
   "outputs": [],
   "source": []
  }
 ],
 "metadata": {
  "kernelspec": {
   "display_name": "Python 3",
   "language": "python",
   "name": "python3"
  },
  "language_info": {
   "codemirror_mode": {
    "name": "ipython",
    "version": 3
   },
   "file_extension": ".py",
   "mimetype": "text/x-python",
   "name": "python",
   "nbconvert_exporter": "python",
   "pygments_lexer": "ipython3",
   "version": "3.7.3"
  }
 },
 "nbformat": 4,
 "nbformat_minor": 2
}
